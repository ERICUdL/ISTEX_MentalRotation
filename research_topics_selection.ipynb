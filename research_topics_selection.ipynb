{
 "cells": [
  {
   "cell_type": "code",
   "execution_count": 2,
   "metadata": {
    "collapsed": true
   },
   "outputs": [],
   "source": [
    "import urllib2, json, pickle\n",
    "import numpy as np\n",
    "import pandas as pd"
   ]
  },
  {
   "cell_type": "code",
   "execution_count": 74,
   "metadata": {},
   "outputs": [
    {
     "data": {
      "text/plain": [
       "'https://api.istex.fr/document/?q=((categories.wos:%22Industrial%20Relations%22)%20AND%20(qualityIndicators.abstractWordCount:[35%20500]%20AND%20qualityIndicators.pdfPageCount:[3%2060]%20AND%20publicationDate:[1990%202016]%20AND%20language:(%22eng%22%20OR%20%22unknown%22)%20AND%20genre:(%22research_article%22%20OR%20%22conference[eBooks]%22%20OR%20%22article%22%20)%20))&size=1000&output=id&from=5000'"
      ]
     },
     "execution_count": 74,
     "metadata": {},
     "output_type": "execute_result"
    }
   ],
   "source": [
    "q = 'https://api.istex.fr/document/?q=((categories.wos:%22Industrial%20Relations%22)%20AND%20(qualityIndicators.abstractWordCount:[35%20500]%20AND%20qualityIndicators.pdfPageCount:[3%2060]%20AND%20publicationDate:[1990%202016]%20AND%20language:(%22eng%22%20OR%20%22unknown%22)%20AND%20genre:(%22research_article%22%20OR%20%22conference[eBooks]%22%20OR%20%22article%22%20)%20))&size=1000&output=id'\n",
    "f = 5000\n",
    "q+'&from='+str(f)"
   ]
  },
  {
   "cell_type": "code",
   "execution_count": 40,
   "metadata": {},
   "outputs": [
    {
     "name": "stdout",
     "output_type": "stream",
     "text": [
      "0\n",
      "1\n"
     ]
    }
   ],
   "source": [
    "for i in range(data['total'] / 5000 +1):\n",
    "    print i"
   ]
  },
  {
   "cell_type": "code",
   "execution_count": 162,
   "metadata": {
    "collapsed": true
   },
   "outputs": [],
   "source": [
    "def query_from(q, f):\n",
    "    q = q+'&from='+str(f)\n",
    "    response = urllib2.urlopen(q)\n",
    "    data = json.load(response)\n",
    "    subject_ids = np.array(range(len(data['hits'])), dtype=np.object)\n",
    "    for (i, hit) in enumerate(data['hits']):\n",
    "        subject_ids[i] = hit['id']\n",
    "    return subject_ids\n",
    "\n",
    "def query(q):\n",
    "    response = urllib2.urlopen(q)\n",
    "    data = json.load(response)\n",
    "    nb_requests = 1 + data['total'] / 1000\n",
    "    if nb_requests > 10: # maximum number of pages due to API pagination restrection\n",
    "        nb_requests = 10\n",
    "    subject_ids = query_from(q, 0)\n",
    "    for i in range(nb_requests)[1:]:\n",
    "        f = i * 1000\n",
    "        next_request = query_from(q, f)\n",
    "        subject_ids = np.hstack((subject_ids, next_request))\n",
    "    return subject_ids.tolist()\n"
   ]
  },
  {
   "cell_type": "code",
   "execution_count": 157,
   "metadata": {},
   "outputs": [
    {
     "data": {
      "text/plain": [
       "625"
      ]
     },
     "execution_count": 157,
     "metadata": {},
     "output_type": "execute_result"
    }
   ],
   "source": [
    "q = 'https://api.istex.fr/document/?q=((categories.wos:%22Industrial%20Relations%22)%20AND%20(qualityIndicators.abstractWordCount:[35%20500]%20AND%20qualityIndicators.pdfPageCount:[3%2060]%20AND%20publicationDate:[1990%202016]%20AND%20language:(%22eng%22%20OR%20%22unknown%22)%20AND%20genre:(%22research_article%22%20OR%20%22conference[eBooks]%22%20OR%20%22article%22%20)%20))&size=1000&output=id'\n",
    "f = 6000\n",
    "len(query_from(q, f))"
   ]
  },
  {
   "cell_type": "code",
   "execution_count": 52,
   "metadata": {},
   "outputs": [
    {
     "data": {
      "text/plain": [
       "['al-natsheh', 'hussein']"
      ]
     },
     "execution_count": 52,
     "metadata": {},
     "output_type": "execute_result"
    }
   ],
   "source": [
    "def find_intersection(list_a, list_b):\n",
    "    return list(set(list_a) & set(list_b))\n",
    "a = ['hussein', 'tayseer', 'al-natsheh']\n",
    "b = ['loay', 'hussein', 'al-natsheh']\n",
    "find_intersection(a, b)"
   ]
  },
  {
   "cell_type": "code",
   "execution_count": 6,
   "metadata": {
    "collapsed": true
   },
   "outputs": [],
   "source": [
    "inv_index = json.load(open('../RecSys_Exp_files/182_381_vec150_results/output_paragraph_inversed_index.json','rb'))"
   ]
  },
  {
   "cell_type": "code",
   "execution_count": 7,
   "metadata": {},
   "outputs": [
    {
     "name": "stdout",
     "output_type": "stream",
     "text": [
      "original inversed_index\n",
      "[(u'ISTEX_D89FA3AC3521074D46F4245762153DF497BFFA1F', 2002320), (u'ISTEX_18EAF4D6A126B077EB38667801D1B7292F32FF49', 2483732), (u'ISTEX_5F91044435FCC4FABB9F02E31467DCFE75F4A7BE', 1429049), (u'ISTEX_EBB03C272511D346B3D68CA10EBD929CE7A31DB8', 128349), (u'ISTEX_5776E10BEF3FF14794D60A604B2CA12B1695894B', 1225023)]\n",
      "processed inversed_index\n",
      "[(u'FCF1393F9B8136AC08FB67E88F94F3CF62C17288', 3517138), (u'482E1102A1114327A744FD2ADB4D9F8FF7E9A70B', 751643), (u'A81022B6295AE66F68A10222C3B94A06B033C1BA', 3983232), (u'F27F00C86A2994208F0143A5CD2217AB87B21A64', 1906438), (u'939B5153F5A4B8053FFAF8E7BCE062B341DB9BEB', 3603049)]\n"
     ]
    }
   ],
   "source": [
    "print 'original inversed_index'\n",
    "print inv_index.items()[:5]\n",
    "inversed_index = dict()\n",
    "for (k, v) in inv_index.items():\n",
    "    key = k.split('_')[1]\n",
    "    inversed_index[key] = v\n",
    "print 'processed inversed_index'\n",
    "print inversed_index.items()[:5]"
   ]
  },
  {
   "cell_type": "code",
   "execution_count": 171,
   "metadata": {},
   "outputs": [],
   "source": [
    "def stat_topic(topic):\n",
    "    _all = query('https://api.istex.fr/document/?q=((title:%22'+topic+'%22%20OR%20subject.value:%22'+topic+'%22%20OR%20keywords:%22'+topic+'%22%20OR%20abstract:%22'+topic+'%22)%20AND%20(qualityIndicators.abstractWordCount:[35%20500]%20AND%20qualityIndicators.pdfPageCount:[3%2060]%20AND%20publicationDate:[1990%202016]%20AND%20language:(%22eng%22%20OR%20%22unknown%22)%20AND%20genre:(%22research_article%22%20OR%20%22conference[eBooks]%22%20OR%20%22article%22%20)%20))&size=1000&output=id')\n",
    "    print 'all:', len(_all)\n",
    "    _abst_title = query('https://api.istex.fr/document/?q=((title:%22'+topic+'%22%20OR%20abstract:%22'+topic+'%22)%20AND%20(qualityIndicators.abstractWordCount:[35%20500]%20AND%20qualityIndicators.pdfPageCount:[3%2060]%20AND%20publicationDate:[1990%202016]%20AND%20language:(%22eng%22%20OR%20%22unknown%22)%20AND%20genre:(%22research_article%22%20OR%20%22conference[eBooks]%22%20OR%20%22article%22%20)%20))&size=1000&output=id')\n",
    "    print 'size of abstract_title:',len(_abst_title)\n",
    "    print 'abstract_title that exists in SVD(possible training set)', len(find_intersection(_abst_title,inversed_index.keys()))\n",
    "    _key_subj = query('https://api.istex.fr/document/?q=((subject.value:%22'+topic+'%22%20OR%20keywords:%22'+topic+'%22%20)%20AND%20(qualityIndicators.abstractWordCount:[35%20500]%20AND%20qualityIndicators.pdfPageCount:[3%2060]%20AND%20publicationDate:[1990%202016]%20AND%20language:(%22eng%22%20OR%20%22unknown%22)%20AND%20genre:(%22research_article%22%20OR%20%22conference[eBooks]%22%20OR%20%22article%22%20)%20))&size=1000&output=id')\n",
    "    print 'size of key_subject:', len(_key_subj)\n",
    "    at_all_inter = find_intersection(_all, _abst_title)\n",
    "    print 'intersection all and abst_title (training set):', len(at_all_inter)\n",
    "    ks_at_inter = find_intersection(_key_subj, _abst_title)\n",
    "    print 'intersection key_sub and abst_title:', len(ks_at_inter)\n",
    "    ks_all_inter = find_intersection(_key_subj,_all)\n",
    "    print 'intersection key_sub and all:', len(ks_all_inter)\n",
    "    _inter = {x for x in _key_subj if x not in _abst_title}\n",
    "    print 'size of key_sub but not abst_tile:', len(_inter)\n",
    "    print 'key_sub but not abst_tile that exists in SVD(possible test set)', len(find_intersection(_inter,inversed_index.keys()))\n",
    "    _categories = query('https://api.istex.fr/document/?q=((categories.wos:%22'+topic+'%22%20AND%20corpusName:%22elsevier%22)%20AND%20(qualityIndicators.abstractWordCount:[35%20500]%20AND%20qualityIndicators.pdfPageCount:[3%2060]%20AND%20publicationDate:[1990%202016]%20AND%20language:(%22eng%22%20OR%20%22unknown%22)%20AND%20genre:(%22research_article%22%20OR%20%22conference[eBooks]%22%20OR%20%22article%22%20)%20))&size=1000&output=id')\n",
    "    if len(_categories) == 0:\n",
    "        _categories = query('https://api.istex.fr/document/?q=((categories.wos:%22'+topic+'%22)%20AND%20(qualityIndicators.abstractWordCount:[35%20500]%20AND%20qualityIndicators.pdfPageCount:[3%2060]%20AND%20publicationDate:[1990%202016]%20AND%20language:(%22eng%22%20OR%20%22unknown%22)%20AND%20genre:(%22research_article%22%20OR%20%22conference[eBooks]%22%20OR%20%22article%22%20)%20))&size=1000&output=id')\n",
    "    print 'len of category='+topic+':', len(_categories)\n",
    "    _test = {x for x in _categories if x not in _all}\n",
    "    print 'test length considering categories:', len(_test)\n",
    "    _initialcorpus = find_intersection(_all, inversed_index.keys())\n",
    "    print 'size of initial corpus that exists in SVD:', len(_initialcorpus)\n",
    "    interaction_test = find_intersection(_test, inversed_index.keys())\n",
    "    print 'size of test set that exists in SVD:', len(interaction_test)"
   ]
  },
  {
   "cell_type": "code",
   "execution_count": 93,
   "metadata": {},
   "outputs": [
    {
     "name": "stdout",
     "output_type": "stream",
     "text": [
      "all: 213\n",
      "abstract_title (training set): 160\n",
      "key_subject: 75\n",
      "intersection all and abst_title (training set): 160\n",
      "intersection key_sub and abst_title: 22\n",
      "intersection key_sub and all: 75\n",
      "key_sub but not abst_tile (test set): 53\n",
      "len of category=genetic%20toxicology: 0\n",
      "new test length considering categories: 0\n",
      "size of initial corpus that exists in SVD: 198\n",
      "size of test set that exists in SVD: 0\n"
     ]
    }
   ],
   "source": [
    "stat_topic('genetic%20toxicology')"
   ]
  },
  {
   "cell_type": "code",
   "execution_count": 96,
   "metadata": {},
   "outputs": [
    {
     "name": "stdout",
     "output_type": "stream",
     "text": [
      "all: 431\n",
      "abstract_title (training set): 144\n",
      "key_subject: 296\n",
      "intersection all and abst_title (training set): 144\n",
      "intersection key_sub and abst_title: 9\n",
      "intersection key_sub and all: 296\n",
      "key_sub but not abst_tile (test set): 287\n",
      "len of category=Computational%20Biology: 5382\n",
      "new test length considering categories: 5380\n",
      "size of initial corpus that exists in SVD: 394\n",
      "size of test set that exists in SVD: 5099\n"
     ]
    }
   ],
   "source": [
    "stat_topic('Computational%20Biology')"
   ]
  },
  {
   "cell_type": "code",
   "execution_count": 90,
   "metadata": {},
   "outputs": [
    {
     "name": "stdout",
     "output_type": "stream",
     "text": [
      "all: 41\n",
      "abstract_title (training set): 37\n",
      "key_subject: 4\n",
      "intersection all and abst_title (training set): 37\n",
      "intersection key_sub and abst_title: 0\n",
      "intersection key_sub and all: 4\n",
      "key_sub but not abst_tile (test set): 4\n",
      "len of category=Veterinary%20Science: 0\n",
      "new test length considering categories: 0\n",
      "size of initial corpus that exists in SVD: 36\n",
      "size of test set that exists in SVD: 0\n"
     ]
    }
   ],
   "source": [
    "stat_topic('Veterinary%20Science')# small testset"
   ]
  },
  {
   "cell_type": "code",
   "execution_count": 97,
   "metadata": {},
   "outputs": [
    {
     "name": "stdout",
     "output_type": "stream",
     "text": [
      "all: 600\n",
      "abstract_title (training set): 500\n",
      "key_subject: 147\n",
      "intersection all and abst_title (training set): 500\n",
      "intersection key_sub and abst_title: 47\n",
      "intersection key_sub and all: 147\n",
      "key_sub but not abst_tile (test set): 100\n",
      "len of category=Biodiversity%20Conservation: 1554\n",
      "new test length considering categories: 1542\n",
      "size of initial corpus that exists in SVD: 399\n",
      "size of test set that exists in SVD: 1468\n"
     ]
    }
   ],
   "source": [
    "stat_topic('Biodiversity%20Conservation')"
   ]
  },
  {
   "cell_type": "code",
   "execution_count": 98,
   "metadata": {},
   "outputs": [
    {
     "name": "stdout",
     "output_type": "stream",
     "text": [
      "all: 115\n",
      "abstract_title (training set): 109\n",
      "key_subject: 14\n",
      "intersection all and abst_title (training set): 109\n",
      "intersection key_sub and abst_title: 8\n",
      "intersection key_sub and all: 14\n",
      "key_sub but not abst_tile (test set): 6\n",
      "len of category=Critical%20Care%20Medicine: 3396\n",
      "new test length considering categories: 3383\n",
      "size of initial corpus that exists in SVD: 89\n",
      "size of test set that exists in SVD: 3138\n"
     ]
    }
   ],
   "source": [
    "stat_topic('Critical%20Care%20Medicine')"
   ]
  },
  {
   "cell_type": "code",
   "execution_count": 99,
   "metadata": {},
   "outputs": [
    {
     "name": "stdout",
     "output_type": "stream",
     "text": [
      "all: 1546\n",
      "abstract_title (training set): 1347\n",
      "key_subject: 355\n",
      "intersection all and abst_title (training set): 1347\n",
      "intersection key_sub and abst_title: 156\n",
      "intersection key_sub and all: 355\n",
      "key_sub but not abst_tile (test set): 199\n",
      "len of category=Industrial%20Relations: 6625\n",
      "new test length considering categories: 5817\n",
      "size of initial corpus that exists in SVD: 949\n",
      "size of test set that exists in SVD: 3877\n"
     ]
    }
   ],
   "source": [
    "stat_topic('Industrial%20Relations')"
   ]
  },
  {
   "cell_type": "code",
   "execution_count": 101,
   "metadata": {},
   "outputs": [
    {
     "name": "stdout",
     "output_type": "stream",
     "text": [
      "all: 296\n",
      "abstract_title (training set): 272\n",
      "key_subject: 100\n",
      "intersection all and abst_title (training set): 272\n",
      "intersection key_sub and abst_title: 76\n",
      "intersection key_sub and all: 100\n",
      "key_sub but not abst_tile (test set): 24\n",
      "len of category=sign%20language: 0\n",
      "new test length considering categories: 0\n",
      "size of initial corpus that exists in SVD: 226\n",
      "size of test set that exists in SVD: 0\n"
     ]
    }
   ],
   "source": [
    "stat_topic('sign%20language')"
   ]
  },
  {
   "cell_type": "code",
   "execution_count": 100,
   "metadata": {},
   "outputs": [
    {
     "name": "stdout",
     "output_type": "stream",
     "text": [
      "all: 6\n",
      "abstract_title (training set): 5\n",
      "key_subject: 1\n",
      "intersection all and abst_title (training set): 5\n",
      "intersection key_sub and abst_title: 0\n",
      "intersection key_sub and all: 1\n",
      "key_sub but not abst_tile (test set): 1\n",
      "len of category=systematic%20innovation: 0\n",
      "new test length considering categories: 0\n",
      "size of initial corpus that exists in SVD: 3\n",
      "size of test set that exists in SVD: 0\n"
     ]
    }
   ],
   "source": [
    "stat_topic('systematic%20innovation')#too small test set"
   ]
  },
  {
   "cell_type": "code",
   "execution_count": 47,
   "metadata": {},
   "outputs": [
    {
     "name": "stdout",
     "output_type": "stream",
     "text": [
      "all: 194\n",
      "abstract_title (training set): 182\n",
      "key_subject: 33\n",
      "intersection all and abst_title (training set): 182\n",
      "intersection key_sub and abst_title: 21\n",
      "intersection key_sub and all: 33\n",
      "key_sub but not abst_tile (test set): 12\n",
      "len of category=science%20fiction: 0\n",
      "new test length considering categories: 0\n"
     ]
    }
   ],
   "source": [
    "stat_topic('science%20fiction')"
   ]
  },
  {
   "cell_type": "code",
   "execution_count": 30,
   "metadata": {},
   "outputs": [
    {
     "name": "stdout",
     "output_type": "stream",
     "text": [
      "all: 69\n",
      "abstract_title (training set): 60\n",
      "key_subject: 14\n",
      "intersection all and abst_title (training set): 60\n",
      "intersection key_sub and abst_title: 5\n",
      "intersection key_sub and all: 14\n",
      "key_sub but not abst_tile (test set): 9\n"
     ]
    }
   ],
   "source": [
    "stat_topic('natural%20language%20understanding')# small test"
   ]
  },
  {
   "cell_type": "code",
   "execution_count": 31,
   "metadata": {},
   "outputs": [
    {
     "name": "stdout",
     "output_type": "stream",
     "text": [
      "all: 77\n",
      "abstract_title (training set): 71\n",
      "key_subject: 14\n",
      "intersection all and abst_title (training set): 71\n",
      "intersection key_sub and abst_title: 8\n",
      "intersection key_sub and all: 14\n",
      "key_sub but not abst_tile (test set): 6\n"
     ]
    }
   ],
   "source": [
    "stat_topic('deep%20learning')# small test"
   ]
  },
  {
   "cell_type": "code",
   "execution_count": 102,
   "metadata": {},
   "outputs": [
    {
     "name": "stdout",
     "output_type": "stream",
     "text": [
      "all: 1232\n",
      "abstract_title (training set): 1194\n",
      "key_subject: 42\n",
      "intersection all and abst_title (training set): 1194\n",
      "intersection key_sub and abst_title: 4\n",
      "intersection key_sub and all: 42\n",
      "key_sub but not abst_tile (test set): 38\n",
      "len of category=complex%20system: 0\n",
      "new test length considering categories: 0\n",
      "size of initial corpus that exists in SVD: 1027\n",
      "size of test set that exists in SVD: 0\n"
     ]
    }
   ],
   "source": [
    "stat_topic('complex%20system')"
   ]
  },
  {
   "cell_type": "code",
   "execution_count": 103,
   "metadata": {},
   "outputs": [
    {
     "name": "stdout",
     "output_type": "stream",
     "text": [
      "all: 681\n",
      "abstract_title (training set): 667\n",
      "key_subject: 22\n",
      "intersection all and abst_title (training set): 667\n",
      "intersection key_sub and abst_title: 8\n",
      "intersection key_sub and all: 22\n",
      "key_sub but not abst_tile (test set): 14\n",
      "len of category=complex%20network: 0\n",
      "new test length considering categories: 0\n",
      "size of initial corpus that exists in SVD: 571\n",
      "size of test set that exists in SVD: 0\n"
     ]
    }
   ],
   "source": [
    "stat_topic('complex%20network')"
   ]
  },
  {
   "cell_type": "code",
   "execution_count": 104,
   "metadata": {},
   "outputs": [
    {
     "name": "stdout",
     "output_type": "stream",
     "text": [
      "all: 149\n",
      "abstract_title (training set): 138\n",
      "key_subject: 15\n",
      "intersection all and abst_title (training set): 138\n",
      "intersection key_sub and abst_title: 4\n",
      "intersection key_sub and all: 15\n",
      "key_sub but not abst_tile (test set): 11\n",
      "len of category=Agricultural%20Economics: 939\n",
      "new test length considering categories: 932\n",
      "size of initial corpus that exists in SVD: 138\n",
      "size of test set that exists in SVD: 911\n"
     ]
    }
   ],
   "source": [
    "stat_topic('Agricultural%20Economics')"
   ]
  },
  {
   "cell_type": "code",
   "execution_count": 105,
   "metadata": {},
   "outputs": [
    {
     "name": "stdout",
     "output_type": "stream",
     "text": [
      "all: 68\n",
      "abstract_title (training set): 61\n",
      "key_subject: 12\n",
      "intersection all and abst_title (training set): 61\n",
      "intersection key_sub and abst_title: 5\n",
      "intersection key_sub and all: 12\n",
      "key_sub but not abst_tile (test set): 7\n",
      "len of category=Speech-Language%20Pathology: 3705\n",
      "new test length considering categories: 3696\n",
      "size of initial corpus that exists in SVD: 32\n",
      "size of test set that exists in SVD: 3611\n"
     ]
    }
   ],
   "source": [
    "stat_topic('Speech-Language%20Pathology')"
   ]
  },
  {
   "cell_type": "code",
   "execution_count": 144,
   "metadata": {},
   "outputs": [
    {
     "name": "stdout",
     "output_type": "stream",
     "text": [
      "all: 840\n",
      "size of abstract_title: 650\n",
      "abstract_title that exists in SVD(possible training set) 570\n",
      "size of key_subject: 216\n",
      "intersection all and abst_title (training set): 650\n",
      "intersection key_sub and abst_title: 26\n",
      "intersection key_sub and all: 216\n",
      "size of key_sub but not abst_tile: 190\n",
      "key_sub but not abst_tile that exists in SVD(possible test set) 182\n",
      "len of category=Developmental%20Biology: 10000\n",
      "test length considering categories: 9941\n",
      "size of initial corpus that exists in SVD: 752\n",
      "size of test set that exists in SVD: 9304\n"
     ]
    }
   ],
   "source": [
    "stat_topic('Developmental%20Biology')"
   ]
  },
  {
   "cell_type": "code",
   "execution_count": 145,
   "metadata": {},
   "outputs": [
    {
     "name": "stdout",
     "output_type": "stream",
     "text": [
      "all: 10000\n",
      "size of abstract_title: 10000\n",
      "abstract_title that exists in SVD(possible training set) 8560\n",
      "size of key_subject: 9675\n",
      "intersection all and abst_title (training set): 6708\n",
      "intersection key_sub and abst_title: 783\n",
      "intersection key_sub and all: 4075\n",
      "size of key_sub but not abst_tile: 8892\n",
      "key_sub but not abst_tile that exists in SVD(possible test set) 8147\n",
      "len of category=Biology: 10000\n",
      "test length considering categories: 9848\n",
      "size of initial corpus that exists in SVD: 8628\n",
      "size of test set that exists in SVD: 7788\n"
     ]
    }
   ],
   "source": [
    "stat_topic('Biology')"
   ]
  },
  {
   "cell_type": "code",
   "execution_count": 158,
   "metadata": {},
   "outputs": [
    {
     "name": "stdout",
     "output_type": "stream",
     "text": [
      "all: 4465\n",
      "size of abstract_title: 2981\n",
      "abstract_title that exists in SVD(possible training set) 2588\n",
      "size of key_subject: 1626\n",
      "intersection all and abst_title (training set): 2981\n",
      "intersection key_sub and abst_title: 142\n",
      "intersection key_sub and all: 1626\n",
      "size of key_sub but not abst_tile: 1484\n",
      "key_sub but not abst_tile that exists in SVD(possible test set) 1375\n",
      "len of category=Infectious%20Diseases: 10000\n",
      "test length considering categories: 9865\n",
      "size of initial corpus that exists in SVD: 3963\n",
      "size of test set that exists in SVD: 8375\n"
     ]
    }
   ],
   "source": [
    "stat_topic('Infectious%20Diseases')"
   ]
  },
  {
   "cell_type": "code",
   "execution_count": 172,
   "metadata": {},
   "outputs": [
    {
     "name": "stdout",
     "output_type": "stream",
     "text": [
      "all: 1182\n",
      "size of abstract_title: 992\n",
      "abstract_title that exists in SVD(possible training set) 863\n",
      "size of key_subject: 299\n",
      "intersection all and abst_title (training set): 992\n",
      "intersection key_sub and abst_title: 109\n",
      "intersection key_sub and all: 299\n",
      "size of key_sub but not abst_tile: 190\n",
      "key_sub but not abst_tile that exists in SVD(possible test set) 164\n",
      "len of category=Peripheral%20Vascular%20Disease: 10000\n",
      "test length considering categories: 9886\n",
      "size of initial corpus that exists in SVD: 1027\n",
      "size of test set that exists in SVD: 9686\n"
     ]
    }
   ],
   "source": [
    "stat_topic('Peripheral%20Vascular%20Disease')"
   ]
  },
  {
   "cell_type": "code",
   "execution_count": 166,
   "metadata": {},
   "outputs": [
    {
     "name": "stdout",
     "output_type": "stream",
     "text": [
      "all: 10000\n",
      "size of abstract_title: 10000\n",
      "abstract_title that exists in SVD(possible training set) 8516\n",
      "size of key_subject: 10000\n",
      "intersection all and abst_title (training set): 7718\n",
      "intersection key_sub and abst_title: 1698\n",
      "intersection key_sub and all: 3980\n",
      "size of key_sub but not abst_tile: 8302\n",
      "key_sub but not abst_tile that exists in SVD(possible test set) 7254\n",
      "len of category=medicine: 10000\n",
      "test length considering categories: 9839\n",
      "size of initial corpus that exists in SVD: 8434\n",
      "size of test set that exists in SVD: 9194\n"
     ]
    }
   ],
   "source": [
    "stat_topic('medicine')"
   ]
  },
  {
   "cell_type": "code",
   "execution_count": 170,
   "metadata": {},
   "outputs": [
    {
     "name": "stdout",
     "output_type": "stream",
     "text": [
      "all: 10000\n",
      "size of abstract_title: 10000\n",
      "abstract_title that exists in SVD(possible training set) 8648\n",
      "size of key_subject: 10000\n",
      "intersection all and abst_title (training set): 4460\n",
      "intersection key_sub and abst_title: 1346\n",
      "intersection key_sub and all: 3480\n",
      "size of key_sub but not abst_tile: 8654\n",
      "key_sub but not abst_tile that exists in SVD(possible test set) 7989\n",
      "len of category=disease: 10000\n",
      "test length considering categories: 9873\n",
      "size of initial corpus that exists in SVD: 8757\n",
      "size of test set that exists in SVD: 9675\n"
     ]
    }
   ],
   "source": [
    "stat_topic('disease')"
   ]
  },
  {
   "cell_type": "code",
   "execution_count": 173,
   "metadata": {},
   "outputs": [
    {
     "name": "stdout",
     "output_type": "stream",
     "text": [
      "all: 10000\n",
      "size of abstract_title: 10000\n",
      "abstract_title that exists in SVD(possible training set) 9011\n",
      "size of key_subject: 7678\n",
      "intersection all and abst_title (training set): 8159\n",
      "intersection key_sub and abst_title: 2178\n",
      "intersection key_sub and all: 4017\n",
      "size of key_sub but not abst_tile: 5500\n",
      "key_sub but not abst_tile that exists in SVD(possible test set) 5077\n",
      "len of category=Peripheral: 10000\n",
      "test length considering categories: 9859\n",
      "size of initial corpus that exists in SVD: 9021\n",
      "size of test set that exists in SVD: 9657\n"
     ]
    }
   ],
   "source": [
    "stat_topic('Peripheral')"
   ]
  },
  {
   "cell_type": "code",
   "execution_count": 174,
   "metadata": {},
   "outputs": [
    {
     "name": "stdout",
     "output_type": "stream",
     "text": [
      "all: 10000\n",
      "size of abstract_title: 10000\n",
      "abstract_title that exists in SVD(possible training set) 9038\n",
      "size of key_subject: 9483\n",
      "intersection all and abst_title (training set): 7821\n",
      "intersection key_sub and abst_title: 3117\n",
      "intersection key_sub and all: 5295\n",
      "size of key_sub but not abst_tile: 6366\n",
      "key_sub but not abst_tile that exists in SVD(possible test set) 5813\n",
      "len of category=Vascular: 10000\n",
      "test length considering categories: 9432\n",
      "size of initial corpus that exists in SVD: 9003\n",
      "size of test set that exists in SVD: 9241\n"
     ]
    }
   ],
   "source": [
    "stat_topic('Vascular')"
   ]
  },
  {
   "cell_type": "code",
   "execution_count": 175,
   "metadata": {},
   "outputs": [
    {
     "name": "stdout",
     "output_type": "stream",
     "text": [
      "all: 10000\n",
      "size of abstract_title: 10000\n",
      "abstract_title that exists in SVD(possible training set) 8809\n",
      "size of key_subject: 10000\n",
      "intersection all and abst_title (training set): 5614\n",
      "intersection key_sub and abst_title: 2493\n",
      "intersection key_sub and all: 5010\n",
      "size of key_sub but not abst_tile: 7507\n",
      "key_sub but not abst_tile that exists in SVD(possible test set) 6640\n",
      "len of category=blood: 0\n",
      "test length considering categories: 0\n",
      "size of initial corpus that exists in SVD: 8823\n",
      "size of test set that exists in SVD: 0\n"
     ]
    }
   ],
   "source": [
    "stat_topic('blood')"
   ]
  }
 ],
 "metadata": {
  "kernelspec": {
   "display_name": "Python 2",
   "language": "python",
   "name": "python2"
  },
  "language_info": {
   "codemirror_mode": {
    "name": "ipython",
    "version": 2
   },
   "file_extension": ".py",
   "mimetype": "text/x-python",
   "name": "python",
   "nbconvert_exporter": "python",
   "pygments_lexer": "ipython2",
   "version": "2.7.12"
  }
 },
 "nbformat": 4,
 "nbformat_minor": 2
}

{
 "cells": [
  {
   "cell_type": "code",
   "execution_count": 1,
   "metadata": {
    "collapsed": true
   },
   "outputs": [],
   "source": [
    "import pandas as pd\n",
    "import numpy as np\n",
    "import json, pickle, os\n",
    "import urllib2"
   ]
  },
  {
   "cell_type": "code",
   "execution_count": 2,
   "metadata": {
    "collapsed": true
   },
   "outputs": [],
   "source": [
    "def get_ids(json_file):\n",
    "    # takes a json file with list of articles meta data including a field named 'istex_id'\n",
    "    # retuns numpy array with the istex_id of the articles\n",
    "    ids = np.arange(len(json_file), dtype=np.object)\n",
    "    for (i,s) in enumerate(json_file):\n",
    "        ids[i] = s['istex_id']\n",
    "    return ids"
   ]
  },
  {
   "cell_type": "code",
   "execution_count": 3,
   "metadata": {
    "collapsed": true
   },
   "outputs": [],
   "source": [
    "def get_title(istex_id):\n",
    "    response = urllib2.urlopen('https://api.istex.fr/document/'+istex_id)\n",
    "    data = json.load(response, encoding=None)\n",
    "    try:\n",
    "        abst = data['title']\n",
    "        return abst\n",
    "    except:\n",
    "        print istex_id\n"
   ]
  },
  {
   "cell_type": "code",
   "execution_count": 4,
   "metadata": {
    "collapsed": true
   },
   "outputs": [],
   "source": [
    "seed = json.load(open('../RecSys_Exp_files/ISTEX_MentalRotation/sample_data/sportArticlesAsIstex_UniqID_182.json','r'))\n",
    "test = json.load(open('../RecSys_Exp_files/ISTEX_MentalRotation/sample_data/MentalRotationInMetaDataIstexWithoutAnnotated.json','r'))\n",
    "seed_ids = get_ids(seed)\n",
    "test_ids = get_ids(test)"
   ]
  },
  {
   "cell_type": "code",
   "execution_count": 32,
   "metadata": {
    "collapsed": true
   },
   "outputs": [],
   "source": [
    "seed_titles_arr = np.array(range(len(seed_ids)), dtype=np.object)\n",
    "for i in range(len(seed)):\n",
    "    seed_titles_arr[i] = seed[i]['title']"
   ]
  },
  {
   "cell_type": "code",
   "execution_count": 33,
   "metadata": {},
   "outputs": [
    {
     "data": {
      "text/plain": [
       "182"
      ]
     },
     "execution_count": 33,
     "metadata": {},
     "output_type": "execute_result"
    }
   ],
   "source": [
    "len(seed_titles_arr)"
   ]
  },
  {
   "cell_type": "code",
   "execution_count": 9,
   "metadata": {
    "collapsed": true
   },
   "outputs": [],
   "source": [
    "def get_titles(ids):\n",
    "    titles = np.array(range(len(ids)), dtype=np.object)\n",
    "    for (i, t_id) in enumerate(ids):\n",
    "        titles[i] = get_title(t_id)\n",
    "    return titles\n",
    "test_titles_arr = get_titles(test_ids)"
   ]
  },
  {
   "cell_type": "code",
   "execution_count": 14,
   "metadata": {},
   "outputs": [
    {
     "data": {
      "text/plain": [
       "199"
      ]
     },
     "execution_count": 14,
     "metadata": {},
     "output_type": "execute_result"
    }
   ],
   "source": [
    "len(test_titles_arr)"
   ]
  },
  {
   "cell_type": "code",
   "execution_count": 15,
   "metadata": {
    "collapsed": true
   },
   "outputs": [],
   "source": [
    "def bring_results_titles(file_path, id_column):\n",
    "    df = pd.DataFrame()\n",
    "    top = np.array(df.from_csv(file_path)[id_column])\n",
    "    titles = get_titles(top)\n",
    "    return titles"
   ]
  },
  {
   "cell_type": "code",
   "execution_count": 18,
   "metadata": {},
   "outputs": [
    {
     "data": {
      "text/plain": [
       "200"
      ]
     },
     "execution_count": 18,
     "metadata": {},
     "output_type": "execute_result"
    }
   ],
   "source": [
    "#bring in the active learning top 200 results\n",
    "active_titles_arr = bring_results_titles('top200_activelearn.csv', '0')\n",
    "len(active_titles_arr)"
   ]
  },
  {
   "cell_type": "code",
   "execution_count": 19,
   "metadata": {
    "collapsed": true
   },
   "outputs": [],
   "source": [
    "def get_top_k(k, file_path, article_column):\n",
    "    df = pd.DataFrame()\n",
    "    top = np.array(range(k), dtype=np.object)\n",
    "    for (i, article) in enumerate(np.array(df.from_csv(file_path)[article_column])):\n",
    "        if i > k-1:\n",
    "            break\n",
    "        top[i] = article.split('/')[4]\n",
    "    return top.tolist()"
   ]
  },
  {
   "cell_type": "code",
   "execution_count": 21,
   "metadata": {
    "collapsed": true
   },
   "outputs": [],
   "source": [
    "def bring_results_titles_from_list(top):\n",
    "    titles_arr = get_titles(top)\n",
    "    return titles_arr"
   ]
  },
  {
   "cell_type": "code",
   "execution_count": 22,
   "metadata": {},
   "outputs": [
    {
     "data": {
      "text/plain": [
       "200"
      ]
     },
     "execution_count": 22,
     "metadata": {},
     "output_type": "execute_result"
    }
   ],
   "source": [
    "#bring in 3SB top 200 results\n",
    "qbe_top200 = get_top_k(200, 'QbE.csv', 'Articles')\n",
    "qbe_titles_arr =  bring_results_titles_from_list(qbe_top200)\n",
    "len(qbe_titles_arr)"
   ]
  },
  {
   "cell_type": "code",
   "execution_count": 23,
   "metadata": {},
   "outputs": [
    {
     "data": {
      "text/plain": [
       "200"
      ]
     },
     "execution_count": 23,
     "metadata": {},
     "output_type": "execute_result"
    }
   ],
   "source": [
    "#bring in MLT top 200 results\n",
    "mlt_top200 = get_top_k(200, 'MLT.csv', 'Article')\n",
    "mlt_titles_arr =  bring_results_titles_from_list(mlt_top200)\n",
    "len(mlt_titles_arr)"
   ]
  },
  {
   "cell_type": "code",
   "execution_count": 29,
   "metadata": {
    "collapsed": true
   },
   "outputs": [],
   "source": [
    "def auto_title_pairs_gen(result_sents, outfile):\n",
    "    sent_pairs = []\n",
    "    for s1 in result_sents:\n",
    "        for s2 in seed_titles_arr:\n",
    "            sent_pairs.append((s1, s2, 0.0))\n",
    "    df = pd.DataFrame(sent_pairs, columns=['Sent1', 'Sent2', 'Score'])\n",
    "    df.to_csv('title_sem_exp_'+outfile, sep='~', index=None, encoding='utf-8')\n",
    "    return 'retuned file '+outfile\n"
   ]
  },
  {
   "cell_type": "code",
   "execution_count": 34,
   "metadata": {},
   "outputs": [
    {
     "data": {
      "text/plain": [
       "'retuned file active_pairs'"
      ]
     },
     "execution_count": 34,
     "metadata": {},
     "output_type": "execute_result"
    }
   ],
   "source": [
    "auto_title_pairs_gen(active_titles_arr, 'active_pairs')"
   ]
  },
  {
   "cell_type": "code",
   "execution_count": 35,
   "metadata": {},
   "outputs": [
    {
     "data": {
      "text/plain": [
       "'retuned file qbe_pairs'"
      ]
     },
     "execution_count": 35,
     "metadata": {},
     "output_type": "execute_result"
    }
   ],
   "source": [
    "auto_title_pairs_gen(qbe_titles_arr, 'qbe_pairs')"
   ]
  },
  {
   "cell_type": "code",
   "execution_count": 36,
   "metadata": {},
   "outputs": [
    {
     "data": {
      "text/plain": [
       "'retuned file mlt_pairs'"
      ]
     },
     "execution_count": 36,
     "metadata": {},
     "output_type": "execute_result"
    }
   ],
   "source": [
    "auto_title_pairs_gen(mlt_titles_arr,'mlt_pairs')"
   ]
  },
  {
   "cell_type": "code",
   "execution_count": 12,
   "metadata": {},
   "outputs": [
    {
     "data": {
      "text/html": [
       "<div>\n",
       "<table border=\"1\" class=\"dataframe\">\n",
       "  <thead>\n",
       "    <tr style=\"text-align: right;\">\n",
       "      <th></th>\n",
       "      <th>Sent1</th>\n",
       "      <th>Sent2</th>\n",
       "      <th>Score</th>\n",
       "    </tr>\n",
       "  </thead>\n",
       "  <tbody>\n",
       "    <tr>\n",
       "      <th>0</th>\n",
       "      <td>Generation of skeletal and multipart mental vi...</td>\n",
       "      <td>Effects of Using Mental and Manual Rotation Tr...</td>\n",
       "      <td>1.920951</td>\n",
       "    </tr>\n",
       "    <tr>\n",
       "      <th>1</th>\n",
       "      <td>Generation of skeletal and multipart mental vi...</td>\n",
       "      <td>The goal of this project was to examine how tr...</td>\n",
       "      <td>2.942941</td>\n",
       "    </tr>\n",
       "    <tr>\n",
       "      <th>2</th>\n",
       "      <td>Generation of skeletal and multipart mental vi...</td>\n",
       "      <td>In Experiment 1, we examined improvement on a ...</td>\n",
       "      <td>1.764000</td>\n",
       "    </tr>\n",
       "    <tr>\n",
       "      <th>3</th>\n",
       "      <td>Generation of skeletal and multipart mental vi...</td>\n",
       "      <td>Practice in mental but not manual rotation lea...</td>\n",
       "      <td>0.956246</td>\n",
       "    </tr>\n",
       "    <tr>\n",
       "      <th>4</th>\n",
       "      <td>Generation of skeletal and multipart mental vi...</td>\n",
       "      <td>In Experiment 2, we examined improvement on a ...</td>\n",
       "      <td>0.718133</td>\n",
       "    </tr>\n",
       "    <tr>\n",
       "      <th>5</th>\n",
       "      <td>Generation of skeletal and multipart mental vi...</td>\n",
       "      <td>In this experiment, both mental and manual rot...</td>\n",
       "      <td>1.541414</td>\n",
       "    </tr>\n",
       "    <tr>\n",
       "      <th>6</th>\n",
       "      <td>Generation of skeletal and multipart mental vi...</td>\n",
       "      <td>These results suggest common processes in ment...</td>\n",
       "      <td>2.190217</td>\n",
       "    </tr>\n",
       "    <tr>\n",
       "      <th>7</th>\n",
       "      <td>Generation of skeletal and multipart mental vi...</td>\n",
       "      <td>The functional role of dorso-lateral premotor ...</td>\n",
       "      <td>2.064954</td>\n",
       "    </tr>\n",
       "    <tr>\n",
       "      <th>8</th>\n",
       "      <td>Generation of skeletal and multipart mental vi...</td>\n",
       "      <td>We examined whether body parts attached to abs...</td>\n",
       "      <td>0.773612</td>\n",
       "    </tr>\n",
       "    <tr>\n",
       "      <th>9</th>\n",
       "      <td>Generation of skeletal and multipart mental vi...</td>\n",
       "      <td>In Experiment 1, standard cube combinations re...</td>\n",
       "      <td>1.140523</td>\n",
       "    </tr>\n",
       "    <tr>\n",
       "      <th>10</th>\n",
       "      <td>Generation of skeletal and multipart mental vi...</td>\n",
       "      <td>Participants (N = 30) had to decide whether tw...</td>\n",
       "      <td>1.481883</td>\n",
       "    </tr>\n",
       "    <tr>\n",
       "      <th>11</th>\n",
       "      <td>Generation of skeletal and multipart mental vi...</td>\n",
       "      <td>They were fastest and made less errors in the ...</td>\n",
       "      <td>1.114221</td>\n",
       "    </tr>\n",
       "    <tr>\n",
       "      <th>12</th>\n",
       "      <td>Generation of skeletal and multipart mental vi...</td>\n",
       "      <td>A second experiment (N = 32) replicated the re...</td>\n",
       "      <td>1.680309</td>\n",
       "    </tr>\n",
       "    <tr>\n",
       "      <th>13</th>\n",
       "      <td>Generation of skeletal and multipart mental vi...</td>\n",
       "      <td>The findings of both experiments suggest that ...</td>\n",
       "      <td>1.790100</td>\n",
       "    </tr>\n",
       "    <tr>\n",
       "      <th>14</th>\n",
       "      <td>Generation of skeletal and multipart mental vi...</td>\n",
       "      <td>Thus, embodiment appears to be a strong and in...</td>\n",
       "      <td>1.187416</td>\n",
       "    </tr>\n",
       "    <tr>\n",
       "      <th>15</th>\n",
       "      <td>Generation of skeletal and multipart mental vi...</td>\n",
       "      <td>Sex Differences in Mental Rotation and How The...</td>\n",
       "      <td>1.725416</td>\n",
       "    </tr>\n",
       "    <tr>\n",
       "      <th>16</th>\n",
       "      <td>Generation of skeletal and multipart mental vi...</td>\n",
       "      <td>The most consistent cognitive sex differences ...</td>\n",
       "      <td>0.875700</td>\n",
       "    </tr>\n",
       "    <tr>\n",
       "      <th>17</th>\n",
       "      <td>Generation of skeletal and multipart mental vi...</td>\n",
       "      <td>Such sex differences have been suggested to be...</td>\n",
       "      <td>0.589085</td>\n",
       "    </tr>\n",
       "    <tr>\n",
       "      <th>18</th>\n",
       "      <td>Generation of skeletal and multipart mental vi...</td>\n",
       "      <td>However, it is still debated how the sex diffe...</td>\n",
       "      <td>1.300747</td>\n",
       "    </tr>\n",
       "    <tr>\n",
       "      <th>19</th>\n",
       "      <td>Generation of skeletal and multipart mental vi...</td>\n",
       "      <td>To provide a detailed exploration of sex diffe...</td>\n",
       "      <td>1.655437</td>\n",
       "    </tr>\n",
       "    <tr>\n",
       "      <th>20</th>\n",
       "      <td>Generation of skeletal and multipart mental vi...</td>\n",
       "      <td>Second-to-fourth digit length ratios (2D:4D) w...</td>\n",
       "      <td>0.951523</td>\n",
       "    </tr>\n",
       "    <tr>\n",
       "      <th>21</th>\n",
       "      <td>Generation of skeletal and multipart mental vi...</td>\n",
       "      <td>Handedness was assessed by the use of the Edin...</td>\n",
       "      <td>1.330544</td>\n",
       "    </tr>\n",
       "    <tr>\n",
       "      <th>22</th>\n",
       "      <td>Generation of skeletal and multipart mental vi...</td>\n",
       "      <td>In addition, we investigated the relation of s...</td>\n",
       "      <td>1.472080</td>\n",
       "    </tr>\n",
       "    <tr>\n",
       "      <th>23</th>\n",
       "      <td>Generation of skeletal and multipart mental vi...</td>\n",
       "      <td>Results showed a male advantage in rotational ...</td>\n",
       "      <td>0.722463</td>\n",
       "    </tr>\n",
       "    <tr>\n",
       "      <th>24</th>\n",
       "      <td>Generation of skeletal and multipart mental vi...</td>\n",
       "      <td>These findings are in contrast to the MR perfo...</td>\n",
       "      <td>1.789682</td>\n",
       "    </tr>\n",
       "    <tr>\n",
       "      <th>25</th>\n",
       "      <td>Generation of skeletal and multipart mental vi...</td>\n",
       "      <td>These results suggest that the differences in ...</td>\n",
       "      <td>1.641127</td>\n",
       "    </tr>\n",
       "    <tr>\n",
       "      <th>26</th>\n",
       "      <td>In a series of three experiments the hemispher...</td>\n",
       "      <td>Effects of Using Mental and Manual Rotation Tr...</td>\n",
       "      <td>1.828229</td>\n",
       "    </tr>\n",
       "    <tr>\n",
       "      <th>27</th>\n",
       "      <td>In a series of three experiments the hemispher...</td>\n",
       "      <td>The goal of this project was to examine how tr...</td>\n",
       "      <td>1.896127</td>\n",
       "    </tr>\n",
       "    <tr>\n",
       "      <th>28</th>\n",
       "      <td>In a series of three experiments the hemispher...</td>\n",
       "      <td>In Experiment 1, we examined improvement on a ...</td>\n",
       "      <td>1.543728</td>\n",
       "    </tr>\n",
       "    <tr>\n",
       "      <th>29</th>\n",
       "      <td>In a series of three experiments the hemispher...</td>\n",
       "      <td>Practice in mental but not manual rotation lea...</td>\n",
       "      <td>1.227528</td>\n",
       "    </tr>\n",
       "    <tr>\n",
       "      <th>...</th>\n",
       "      <td>...</td>\n",
       "      <td>...</td>\n",
       "      <td>...</td>\n",
       "    </tr>\n",
       "    <tr>\n",
       "      <th>152</th>\n",
       "      <td>These findings provide support to the hypothes...</td>\n",
       "      <td>In addition, we investigated the relation of s...</td>\n",
       "      <td>0.757913</td>\n",
       "    </tr>\n",
       "    <tr>\n",
       "      <th>153</th>\n",
       "      <td>These findings provide support to the hypothes...</td>\n",
       "      <td>Results showed a male advantage in rotational ...</td>\n",
       "      <td>1.445867</td>\n",
       "    </tr>\n",
       "    <tr>\n",
       "      <th>154</th>\n",
       "      <td>These findings provide support to the hypothes...</td>\n",
       "      <td>These findings are in contrast to the MR perfo...</td>\n",
       "      <td>0.572131</td>\n",
       "    </tr>\n",
       "    <tr>\n",
       "      <th>155</th>\n",
       "      <td>These findings provide support to the hypothes...</td>\n",
       "      <td>These results suggest that the differences in ...</td>\n",
       "      <td>1.886378</td>\n",
       "    </tr>\n",
       "    <tr>\n",
       "      <th>156</th>\n",
       "      <td>Results are discussed both in terms of Kosslyn...</td>\n",
       "      <td>Effects of Using Mental and Manual Rotation Tr...</td>\n",
       "      <td>1.825954</td>\n",
       "    </tr>\n",
       "    <tr>\n",
       "      <th>157</th>\n",
       "      <td>Results are discussed both in terms of Kosslyn...</td>\n",
       "      <td>The goal of this project was to examine how tr...</td>\n",
       "      <td>0.927236</td>\n",
       "    </tr>\n",
       "    <tr>\n",
       "      <th>158</th>\n",
       "      <td>Results are discussed both in terms of Kosslyn...</td>\n",
       "      <td>In Experiment 1, we examined improvement on a ...</td>\n",
       "      <td>1.139511</td>\n",
       "    </tr>\n",
       "    <tr>\n",
       "      <th>159</th>\n",
       "      <td>Results are discussed both in terms of Kosslyn...</td>\n",
       "      <td>Practice in mental but not manual rotation lea...</td>\n",
       "      <td>1.119076</td>\n",
       "    </tr>\n",
       "    <tr>\n",
       "      <th>160</th>\n",
       "      <td>Results are discussed both in terms of Kosslyn...</td>\n",
       "      <td>In Experiment 2, we examined improvement on a ...</td>\n",
       "      <td>1.091673</td>\n",
       "    </tr>\n",
       "    <tr>\n",
       "      <th>161</th>\n",
       "      <td>Results are discussed both in terms of Kosslyn...</td>\n",
       "      <td>In this experiment, both mental and manual rot...</td>\n",
       "      <td>1.426276</td>\n",
       "    </tr>\n",
       "    <tr>\n",
       "      <th>162</th>\n",
       "      <td>Results are discussed both in terms of Kosslyn...</td>\n",
       "      <td>These results suggest common processes in ment...</td>\n",
       "      <td>1.699433</td>\n",
       "    </tr>\n",
       "    <tr>\n",
       "      <th>163</th>\n",
       "      <td>Results are discussed both in terms of Kosslyn...</td>\n",
       "      <td>The functional role of dorso-lateral premotor ...</td>\n",
       "      <td>0.913641</td>\n",
       "    </tr>\n",
       "    <tr>\n",
       "      <th>164</th>\n",
       "      <td>Results are discussed both in terms of Kosslyn...</td>\n",
       "      <td>We examined whether body parts attached to abs...</td>\n",
       "      <td>0.964608</td>\n",
       "    </tr>\n",
       "    <tr>\n",
       "      <th>165</th>\n",
       "      <td>Results are discussed both in terms of Kosslyn...</td>\n",
       "      <td>In Experiment 1, standard cube combinations re...</td>\n",
       "      <td>1.182724</td>\n",
       "    </tr>\n",
       "    <tr>\n",
       "      <th>166</th>\n",
       "      <td>Results are discussed both in terms of Kosslyn...</td>\n",
       "      <td>Participants (N = 30) had to decide whether tw...</td>\n",
       "      <td>0.653223</td>\n",
       "    </tr>\n",
       "    <tr>\n",
       "      <th>167</th>\n",
       "      <td>Results are discussed both in terms of Kosslyn...</td>\n",
       "      <td>They were fastest and made less errors in the ...</td>\n",
       "      <td>0.835689</td>\n",
       "    </tr>\n",
       "    <tr>\n",
       "      <th>168</th>\n",
       "      <td>Results are discussed both in terms of Kosslyn...</td>\n",
       "      <td>A second experiment (N = 32) replicated the re...</td>\n",
       "      <td>1.098885</td>\n",
       "    </tr>\n",
       "    <tr>\n",
       "      <th>169</th>\n",
       "      <td>Results are discussed both in terms of Kosslyn...</td>\n",
       "      <td>The findings of both experiments suggest that ...</td>\n",
       "      <td>2.336002</td>\n",
       "    </tr>\n",
       "    <tr>\n",
       "      <th>170</th>\n",
       "      <td>Results are discussed both in terms of Kosslyn...</td>\n",
       "      <td>Thus, embodiment appears to be a strong and in...</td>\n",
       "      <td>0.834688</td>\n",
       "    </tr>\n",
       "    <tr>\n",
       "      <th>171</th>\n",
       "      <td>Results are discussed both in terms of Kosslyn...</td>\n",
       "      <td>Sex Differences in Mental Rotation and How The...</td>\n",
       "      <td>1.929103</td>\n",
       "    </tr>\n",
       "    <tr>\n",
       "      <th>172</th>\n",
       "      <td>Results are discussed both in terms of Kosslyn...</td>\n",
       "      <td>The most consistent cognitive sex differences ...</td>\n",
       "      <td>0.934831</td>\n",
       "    </tr>\n",
       "    <tr>\n",
       "      <th>173</th>\n",
       "      <td>Results are discussed both in terms of Kosslyn...</td>\n",
       "      <td>Such sex differences have been suggested to be...</td>\n",
       "      <td>1.238322</td>\n",
       "    </tr>\n",
       "    <tr>\n",
       "      <th>174</th>\n",
       "      <td>Results are discussed both in terms of Kosslyn...</td>\n",
       "      <td>However, it is still debated how the sex diffe...</td>\n",
       "      <td>1.051403</td>\n",
       "    </tr>\n",
       "    <tr>\n",
       "      <th>175</th>\n",
       "      <td>Results are discussed both in terms of Kosslyn...</td>\n",
       "      <td>To provide a detailed exploration of sex diffe...</td>\n",
       "      <td>1.490316</td>\n",
       "    </tr>\n",
       "    <tr>\n",
       "      <th>176</th>\n",
       "      <td>Results are discussed both in terms of Kosslyn...</td>\n",
       "      <td>Second-to-fourth digit length ratios (2D:4D) w...</td>\n",
       "      <td>0.880137</td>\n",
       "    </tr>\n",
       "    <tr>\n",
       "      <th>177</th>\n",
       "      <td>Results are discussed both in terms of Kosslyn...</td>\n",
       "      <td>Handedness was assessed by the use of the Edin...</td>\n",
       "      <td>1.397422</td>\n",
       "    </tr>\n",
       "    <tr>\n",
       "      <th>178</th>\n",
       "      <td>Results are discussed both in terms of Kosslyn...</td>\n",
       "      <td>In addition, we investigated the relation of s...</td>\n",
       "      <td>1.519207</td>\n",
       "    </tr>\n",
       "    <tr>\n",
       "      <th>179</th>\n",
       "      <td>Results are discussed both in terms of Kosslyn...</td>\n",
       "      <td>Results showed a male advantage in rotational ...</td>\n",
       "      <td>2.276137</td>\n",
       "    </tr>\n",
       "    <tr>\n",
       "      <th>180</th>\n",
       "      <td>Results are discussed both in terms of Kosslyn...</td>\n",
       "      <td>These findings are in contrast to the MR perfo...</td>\n",
       "      <td>1.045980</td>\n",
       "    </tr>\n",
       "    <tr>\n",
       "      <th>181</th>\n",
       "      <td>Results are discussed both in terms of Kosslyn...</td>\n",
       "      <td>These results suggest that the differences in ...</td>\n",
       "      <td>1.812677</td>\n",
       "    </tr>\n",
       "  </tbody>\n",
       "</table>\n",
       "<p>182 rows × 3 columns</p>\n",
       "</div>"
      ],
      "text/plain": [
       "                                                 Sent1  \\\n",
       "0    Generation of skeletal and multipart mental vi...   \n",
       "1    Generation of skeletal and multipart mental vi...   \n",
       "2    Generation of skeletal and multipart mental vi...   \n",
       "3    Generation of skeletal and multipart mental vi...   \n",
       "4    Generation of skeletal and multipart mental vi...   \n",
       "5    Generation of skeletal and multipart mental vi...   \n",
       "6    Generation of skeletal and multipart mental vi...   \n",
       "7    Generation of skeletal and multipart mental vi...   \n",
       "8    Generation of skeletal and multipart mental vi...   \n",
       "9    Generation of skeletal and multipart mental vi...   \n",
       "10   Generation of skeletal and multipart mental vi...   \n",
       "11   Generation of skeletal and multipart mental vi...   \n",
       "12   Generation of skeletal and multipart mental vi...   \n",
       "13   Generation of skeletal and multipart mental vi...   \n",
       "14   Generation of skeletal and multipart mental vi...   \n",
       "15   Generation of skeletal and multipart mental vi...   \n",
       "16   Generation of skeletal and multipart mental vi...   \n",
       "17   Generation of skeletal and multipart mental vi...   \n",
       "18   Generation of skeletal and multipart mental vi...   \n",
       "19   Generation of skeletal and multipart mental vi...   \n",
       "20   Generation of skeletal and multipart mental vi...   \n",
       "21   Generation of skeletal and multipart mental vi...   \n",
       "22   Generation of skeletal and multipart mental vi...   \n",
       "23   Generation of skeletal and multipart mental vi...   \n",
       "24   Generation of skeletal and multipart mental vi...   \n",
       "25   Generation of skeletal and multipart mental vi...   \n",
       "26   In a series of three experiments the hemispher...   \n",
       "27   In a series of three experiments the hemispher...   \n",
       "28   In a series of three experiments the hemispher...   \n",
       "29   In a series of three experiments the hemispher...   \n",
       "..                                                 ...   \n",
       "152  These findings provide support to the hypothes...   \n",
       "153  These findings provide support to the hypothes...   \n",
       "154  These findings provide support to the hypothes...   \n",
       "155  These findings provide support to the hypothes...   \n",
       "156  Results are discussed both in terms of Kosslyn...   \n",
       "157  Results are discussed both in terms of Kosslyn...   \n",
       "158  Results are discussed both in terms of Kosslyn...   \n",
       "159  Results are discussed both in terms of Kosslyn...   \n",
       "160  Results are discussed both in terms of Kosslyn...   \n",
       "161  Results are discussed both in terms of Kosslyn...   \n",
       "162  Results are discussed both in terms of Kosslyn...   \n",
       "163  Results are discussed both in terms of Kosslyn...   \n",
       "164  Results are discussed both in terms of Kosslyn...   \n",
       "165  Results are discussed both in terms of Kosslyn...   \n",
       "166  Results are discussed both in terms of Kosslyn...   \n",
       "167  Results are discussed both in terms of Kosslyn...   \n",
       "168  Results are discussed both in terms of Kosslyn...   \n",
       "169  Results are discussed both in terms of Kosslyn...   \n",
       "170  Results are discussed both in terms of Kosslyn...   \n",
       "171  Results are discussed both in terms of Kosslyn...   \n",
       "172  Results are discussed both in terms of Kosslyn...   \n",
       "173  Results are discussed both in terms of Kosslyn...   \n",
       "174  Results are discussed both in terms of Kosslyn...   \n",
       "175  Results are discussed both in terms of Kosslyn...   \n",
       "176  Results are discussed both in terms of Kosslyn...   \n",
       "177  Results are discussed both in terms of Kosslyn...   \n",
       "178  Results are discussed both in terms of Kosslyn...   \n",
       "179  Results are discussed both in terms of Kosslyn...   \n",
       "180  Results are discussed both in terms of Kosslyn...   \n",
       "181  Results are discussed both in terms of Kosslyn...   \n",
       "\n",
       "                                                 Sent2     Score  \n",
       "0    Effects of Using Mental and Manual Rotation Tr...  1.920951  \n",
       "1    The goal of this project was to examine how tr...  2.942941  \n",
       "2    In Experiment 1, we examined improvement on a ...  1.764000  \n",
       "3    Practice in mental but not manual rotation lea...  0.956246  \n",
       "4    In Experiment 2, we examined improvement on a ...  0.718133  \n",
       "5    In this experiment, both mental and manual rot...  1.541414  \n",
       "6    These results suggest common processes in ment...  2.190217  \n",
       "7    The functional role of dorso-lateral premotor ...  2.064954  \n",
       "8    We examined whether body parts attached to abs...  0.773612  \n",
       "9    In Experiment 1, standard cube combinations re...  1.140523  \n",
       "10   Participants (N = 30) had to decide whether tw...  1.481883  \n",
       "11   They were fastest and made less errors in the ...  1.114221  \n",
       "12   A second experiment (N = 32) replicated the re...  1.680309  \n",
       "13   The findings of both experiments suggest that ...  1.790100  \n",
       "14   Thus, embodiment appears to be a strong and in...  1.187416  \n",
       "15   Sex Differences in Mental Rotation and How The...  1.725416  \n",
       "16   The most consistent cognitive sex differences ...  0.875700  \n",
       "17   Such sex differences have been suggested to be...  0.589085  \n",
       "18   However, it is still debated how the sex diffe...  1.300747  \n",
       "19   To provide a detailed exploration of sex diffe...  1.655437  \n",
       "20   Second-to-fourth digit length ratios (2D:4D) w...  0.951523  \n",
       "21   Handedness was assessed by the use of the Edin...  1.330544  \n",
       "22   In addition, we investigated the relation of s...  1.472080  \n",
       "23   Results showed a male advantage in rotational ...  0.722463  \n",
       "24   These findings are in contrast to the MR perfo...  1.789682  \n",
       "25   These results suggest that the differences in ...  1.641127  \n",
       "26   Effects of Using Mental and Manual Rotation Tr...  1.828229  \n",
       "27   The goal of this project was to examine how tr...  1.896127  \n",
       "28   In Experiment 1, we examined improvement on a ...  1.543728  \n",
       "29   Practice in mental but not manual rotation lea...  1.227528  \n",
       "..                                                 ...       ...  \n",
       "152  In addition, we investigated the relation of s...  0.757913  \n",
       "153  Results showed a male advantage in rotational ...  1.445867  \n",
       "154  These findings are in contrast to the MR perfo...  0.572131  \n",
       "155  These results suggest that the differences in ...  1.886378  \n",
       "156  Effects of Using Mental and Manual Rotation Tr...  1.825954  \n",
       "157  The goal of this project was to examine how tr...  0.927236  \n",
       "158  In Experiment 1, we examined improvement on a ...  1.139511  \n",
       "159  Practice in mental but not manual rotation lea...  1.119076  \n",
       "160  In Experiment 2, we examined improvement on a ...  1.091673  \n",
       "161  In this experiment, both mental and manual rot...  1.426276  \n",
       "162  These results suggest common processes in ment...  1.699433  \n",
       "163  The functional role of dorso-lateral premotor ...  0.913641  \n",
       "164  We examined whether body parts attached to abs...  0.964608  \n",
       "165  In Experiment 1, standard cube combinations re...  1.182724  \n",
       "166  Participants (N = 30) had to decide whether tw...  0.653223  \n",
       "167  They were fastest and made less errors in the ...  0.835689  \n",
       "168  A second experiment (N = 32) replicated the re...  1.098885  \n",
       "169  The findings of both experiments suggest that ...  2.336002  \n",
       "170  Thus, embodiment appears to be a strong and in...  0.834688  \n",
       "171  Sex Differences in Mental Rotation and How The...  1.929103  \n",
       "172  The most consistent cognitive sex differences ...  0.934831  \n",
       "173  Such sex differences have been suggested to be...  1.238322  \n",
       "174  However, it is still debated how the sex diffe...  1.051403  \n",
       "175  To provide a detailed exploration of sex diffe...  1.490316  \n",
       "176  Second-to-fourth digit length ratios (2D:4D) w...  0.880137  \n",
       "177  Handedness was assessed by the use of the Edin...  1.397422  \n",
       "178  In addition, we investigated the relation of s...  1.519207  \n",
       "179  Results showed a male advantage in rotational ...  2.276137  \n",
       "180  These findings are in contrast to the MR perfo...  1.045980  \n",
       "181  These results suggest that the differences in ...  1.812677  \n",
       "\n",
       "[182 rows x 3 columns]"
      ]
     },
     "execution_count": 12,
     "metadata": {},
     "output_type": "execute_result"
    }
   ],
   "source": [
    "active1_pairs = pd.read_csv(open('sent_sem_exp/score_active1_pairs.csv'), header=0, sep='\\t')\n",
    "active1_pairs"
   ]
  }
 ],
 "metadata": {
  "kernelspec": {
   "display_name": "Python 2",
   "language": "python",
   "name": "python2"
  },
  "language_info": {
   "codemirror_mode": {
    "name": "ipython",
    "version": 2
   },
   "file_extension": ".py",
   "mimetype": "text/x-python",
   "name": "python",
   "nbconvert_exporter": "python",
   "pygments_lexer": "ipython2",
   "version": "2.7.12"
  }
 },
 "nbformat": 4,
 "nbformat_minor": 2
}

{
 "cells": [
  {
   "cell_type": "code",
   "execution_count": 1,
   "metadata": {
    "collapsed": true
   },
   "outputs": [],
   "source": [
    "import urllib2, json, pickle\n",
    "import numpy as np\n",
    "import pandas as pd"
   ]
  },
  {
   "cell_type": "code",
   "execution_count": 5,
   "metadata": {
    "collapsed": true
   },
   "outputs": [],
   "source": [
    "response = urllib2.urlopen('https://api.istex.fr/document/?q=(title:%22mental%20rotation%22%20OR%20subject.value:%22mental%20rotation%22%20OR%20keywords:%22mental%20rotation%22%20OR%20abstract:%22mental%20rotation%22)&size=1000&output=id')\n",
    "data = json.load(response)\n",
    "subject_MR_ids = np.array(range(len(data['hits'])), dtype=np.object)\n",
    "for (i, hit) in enumerate(data['hits']):\n",
    "    subject_MR_ids[i] = hit['id']\n",
    "subject_MR_ids = subject_MR_ids.tolist()"
   ]
  },
  {
   "cell_type": "code",
   "execution_count": 6,
   "metadata": {
    "collapsed": true
   },
   "outputs": [],
   "source": [
    "def get_top_k(k, file_path, article_column):\n",
    "    df = pd.DataFrame()\n",
    "    top = np.array(range(k), dtype=np.object)\n",
    "    for (i, article) in enumerate(np.array(df.from_csv(file_path)[article_column])):\n",
    "        if i > k-1:\n",
    "            break\n",
    "        top[i] = article.split('/')[4]\n",
    "    return top.tolist()"
   ]
  },
  {
   "cell_type": "code",
   "execution_count": 7,
   "metadata": {
    "collapsed": true
   },
   "outputs": [],
   "source": [
    "def get_ids(json_file):\n",
    "    # takes a json file with list of articles meta data including a field named 'istex_id'\n",
    "    # retuns numpy array with the istex_id of the articles\n",
    "    ids = np.arange(len(json_file), dtype=np.object)\n",
    "    for (i,s) in enumerate(json_file):\n",
    "        ids[i] = s['istex_id']\n",
    "    return ids"
   ]
  },
  {
   "cell_type": "code",
   "execution_count": 8,
   "metadata": {
    "collapsed": true
   },
   "outputs": [],
   "source": [
    "qbe_top200 = get_top_k(200, 'QbE.csv', 'Articles')"
   ]
  },
  {
   "cell_type": "code",
   "execution_count": 9,
   "metadata": {
    "collapsed": true
   },
   "outputs": [],
   "source": [
    "mlt_top200 = get_top_k(200, 'MLT.csv', 'Article')"
   ]
  },
  {
   "cell_type": "code",
   "execution_count": 10,
   "metadata": {
    "collapsed": true
   },
   "outputs": [],
   "source": [
    "df = pd.DataFrame()\n",
    "active_top200 = np.array(df.from_csv('top200_activelearn.csv')['0']).tolist()"
   ]
  },
  {
   "cell_type": "code",
   "execution_count": 11,
   "metadata": {},
   "outputs": [
    {
     "data": {
      "text/plain": [
       "['al-natsheh', 'hussein']"
      ]
     },
     "execution_count": 11,
     "metadata": {},
     "output_type": "execute_result"
    }
   ],
   "source": [
    "def find_intersection(list_a, list_b):\n",
    "    return list(set(list_a) & set(list_b))\n",
    "a = ['hussein', 'tayseer', 'al-natsheh']\n",
    "b = ['loay', 'hussein', 'al-natsheh']\n",
    "find_intersection(a, b)"
   ]
  },
  {
   "cell_type": "code",
   "execution_count": 12,
   "metadata": {},
   "outputs": [
    {
     "data": {
      "text/plain": [
       "['823F414AA910D7417970A91A4840656D09B1ADE1',\n",
       " 'C99FC1EB83D9CAE7318BF085A3F3B8CE83AA1538']"
      ]
     },
     "execution_count": 12,
     "metadata": {},
     "output_type": "execute_result"
    }
   ],
   "source": [
    "intersection_qbe = find_intersection(subject_MR_ids, qbe_top200)\n",
    "intersection_mlt = find_intersection(subject_MR_ids, mlt_top200)\n",
    "find_intersection(subject_MR_ids, active_top200)"
   ]
  },
  {
   "cell_type": "code",
   "execution_count": 13,
   "metadata": {},
   "outputs": [
    {
     "data": {
      "text/plain": [
       "391"
      ]
     },
     "execution_count": 13,
     "metadata": {},
     "output_type": "execute_result"
    }
   ],
   "source": [
    "len(df.from_csv('MLT.csv')['Article'])"
   ]
  },
  {
   "cell_type": "code",
   "execution_count": 14,
   "metadata": {},
   "outputs": [
    {
     "data": {
      "text/plain": [
       "959"
      ]
     },
     "execution_count": 14,
     "metadata": {},
     "output_type": "execute_result"
    }
   ],
   "source": [
    "len(df.from_csv('QbE.csv')['Articles'])"
   ]
  },
  {
   "cell_type": "code",
   "execution_count": 15,
   "metadata": {},
   "outputs": [
    {
     "data": {
      "text/plain": [
       "[u'21DF3DF37766A07B3D9C35A597D9125DFEF6B2D9']"
      ]
     },
     "execution_count": 15,
     "metadata": {},
     "output_type": "execute_result"
    }
   ],
   "source": [
    "find_intersection(get_top_k(391, 'MLT.csv', 'Article'), subject_MR_ids)"
   ]
  },
  {
   "cell_type": "code",
   "execution_count": 16,
   "metadata": {},
   "outputs": [
    {
     "data": {
      "text/plain": [
       "[u'64380259D82AB564EF2E11A552ADA86BA0CB2BF2']"
      ]
     },
     "execution_count": 16,
     "metadata": {},
     "output_type": "execute_result"
    }
   ],
   "source": [
    "find_intersection(get_top_k(959, 'QbE.csv', 'Articles'), subject_MR_ids)"
   ]
  },
  {
   "cell_type": "code",
   "execution_count": 40,
   "metadata": {},
   "outputs": [
    {
     "name": "stdout",
     "output_type": "stream",
     "text": [
      "count of matches:  6\n",
      "rank of them:\n",
      "23\n",
      "81\n",
      "226\n",
      "566\n",
      "698\n",
      "928\n"
     ]
    }
   ],
   "source": [
    "def eval_meta(top):\n",
    "    matches = find_intersection(top, subject_MR_ids)\n",
    "    print 'count of matches: ',len(matches)\n",
    "    print 'rank of them:'\n",
    "    ranks = []\n",
    "    for (i, r) in enumerate(top):\n",
    "        if r in matches:\n",
    "            print i\n",
    "            ranks.append(i)\n",
    "    return matches, ranks\n",
    "    \n",
    "matches_active, ranks_active = eval_meta(np.array(df.from_csv('top959_activelearn.csv')['0']).tolist())"
   ]
  },
  {
   "cell_type": "code",
   "execution_count": 41,
   "metadata": {},
   "outputs": [
    {
     "name": "stdout",
     "output_type": "stream",
     "text": [
      "count of matches:  1\n",
      "rank of them:\n",
      "850\n",
      "count of matches:  1\n",
      "rank of them:\n",
      "0\n"
     ]
    }
   ],
   "source": [
    "matches_qbe, ranks_qbe = eval_meta(get_top_k(959, 'QbE.csv', 'Articles'))\n",
    "matches_mlt, ranks_mlt = eval_meta(get_top_k(391, 'MLT.csv', 'Article'))"
   ]
  },
  {
   "cell_type": "code",
   "execution_count": 42,
   "metadata": {},
   "outputs": [
    {
     "data": {
      "text/plain": [
       "[23, 81, 226, 566, 698, 928]"
      ]
     },
     "execution_count": 42,
     "metadata": {},
     "output_type": "execute_result"
    }
   ],
   "source": [
    "ranks_active"
   ]
  },
  {
   "cell_type": "code",
   "execution_count": 18,
   "metadata": {
    "collapsed": true
   },
   "outputs": [],
   "source": [
    "test = json.load(open('sample_data/MentalRotationInMetaDataIstexWithoutAnnotated.json','r'))\n",
    "test_ids = get_ids(test)\n",
    "test_ids = test_ids.tolist()"
   ]
  },
  {
   "cell_type": "code",
   "execution_count": 21,
   "metadata": {},
   "outputs": [
    {
     "name": "stdout",
     "output_type": "stream",
     "text": [
      "meta other than MRISTEX:  159\n"
     ]
    }
   ],
   "source": [
    "print 'meta other than MRISTEX: ', len(subject_MR_ids) - len(find_intersection(test_ids, subject_MR_ids))"
   ]
  },
  {
   "cell_type": "code",
   "execution_count": 22,
   "metadata": {},
   "outputs": [
    {
     "name": "stdout",
     "output_type": "stream",
     "text": [
      "13\n"
     ]
    },
    {
     "data": {
      "text/plain": [
       "[u'B26B967E3291B9A1D8C2788375EC13EAE37C2172',\n",
       " u'C99FC1EB83D9CAE7318BF085A3F3B8CE83AA1538',\n",
       " u'50BF4CCD3CB37A8DC0DF733C4EEB9D1E788B2845',\n",
       " u'64380259D82AB564EF2E11A552ADA86BA0CB2BF2',\n",
       " u'3D2369FDE80305CCF2EA47B90097CC54133139D3',\n",
       " u'586B0ECFBC0CCE4C8BCF4769A621A412ED5C432F',\n",
       " u'BF41413D6B46AA1792C96B3A15F76E3E5ED75F03',\n",
       " u'823F414AA910D7417970A91A4840656D09B1ADE1',\n",
       " u'25CF960A29914AAD30CE74DBDABE691930BF5D95',\n",
       " u'26951B4999DD3FAA5FAA67241E2DEAE16708E75C',\n",
       " u'B819644036DBEE7562203695C995E8AFC829E03F',\n",
       " u'FEB63FD713A315826FF6E25BD9689738511E7D88',\n",
       " u'58860B6503194D6517FA1A41B215E56E84E352F3']"
      ]
     },
     "execution_count": 22,
     "metadata": {},
     "output_type": "execute_result"
    }
   ],
   "source": [
    "print len(find_intersection(np.array(df.from_csv('top10kwo_activelearn.csv')['0']).tolist(), subject_MR_ids))\n",
    "find_intersection(np.array(df.from_csv('top10kwo_activelearn.csv')['0']).tolist(), subject_MR_ids)"
   ]
  }
 ],
 "metadata": {
  "kernelspec": {
   "display_name": "Python 2",
   "language": "python",
   "name": "python2"
  },
  "language_info": {
   "codemirror_mode": {
    "name": "ipython",
    "version": 2
   },
   "file_extension": ".py",
   "mimetype": "text/x-python",
   "name": "python",
   "nbconvert_exporter": "python",
   "pygments_lexer": "ipython2",
   "version": "2.7.12"
  }
 },
 "nbformat": 4,
 "nbformat_minor": 2
}

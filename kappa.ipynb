{
 "cells": [
  {
   "cell_type": "code",
   "execution_count": 38,
   "metadata": {
    "collapsed": true
   },
   "outputs": [],
   "source": [
    "import pandas as pd\n",
    "import numpy as np\n",
    "from sklearn.metrics import cohen_kappa_score"
   ]
  },
  {
   "cell_type": "code",
   "execution_count": 39,
   "metadata": {},
   "outputs": [
    {
     "name": "stdout",
     "output_type": "stream",
     "text": [
      "number of SSbE samples 100\n",
      "number of MLT samples 100\n"
     ]
    },
    {
     "name": "stderr",
     "output_type": "stream",
     "text": [
      "/usr/local/lib/python2.7/dist-packages/ipykernel_launcher.py:4: SettingWithCopyWarning: \n",
      "A value is trying to be set on a copy of a slice from a DataFrame.\n",
      "Try using .loc[row_indexer,col_indexer] = value instead\n",
      "\n",
      "See the caveats in the documentation: http://pandas.pydata.org/pandas-docs/stable/indexing.html#indexing-view-versus-copy\n",
      "  after removing the cwd from sys.path.\n",
      "/usr/local/lib/python2.7/dist-packages/ipykernel_launcher.py:5: SettingWithCopyWarning: \n",
      "A value is trying to be set on a copy of a slice from a DataFrame.\n",
      "Try using .loc[row_indexer,col_indexer] = value instead\n",
      "\n",
      "See the caveats in the documentation: http://pandas.pydata.org/pandas-docs/stable/indexing.html#indexing-view-versus-copy\n",
      "  \"\"\"\n"
     ]
    },
    {
     "data": {
      "text/html": [
       "<div>\n",
       "<table border=\"1\" class=\"dataframe\">\n",
       "  <thead>\n",
       "    <tr style=\"text-align: right;\">\n",
       "      <th></th>\n",
       "      <th>Articles</th>\n",
       "      <th>PF</th>\n",
       "      <th>RM</th>\n",
       "      <th>P</th>\n",
       "      <th>R</th>\n",
       "    </tr>\n",
       "    <tr>\n",
       "      <th>Rank</th>\n",
       "      <th></th>\n",
       "      <th></th>\n",
       "      <th></th>\n",
       "      <th></th>\n",
       "      <th></th>\n",
       "    </tr>\n",
       "  </thead>\n",
       "  <tbody>\n",
       "    <tr>\n",
       "      <th>1</th>\n",
       "      <td>https://api.istex.fr/document/21DF3DF37766A07B...</td>\n",
       "      <td>1</td>\n",
       "      <td>1</td>\n",
       "      <td>1</td>\n",
       "      <td>1</td>\n",
       "    </tr>\n",
       "    <tr>\n",
       "      <th>2</th>\n",
       "      <td>https://api.istex.fr/document/B1BEB7E400969A2E...</td>\n",
       "      <td>1</td>\n",
       "      <td>0.5</td>\n",
       "      <td>1</td>\n",
       "      <td>0.5</td>\n",
       "    </tr>\n",
       "    <tr>\n",
       "      <th>3</th>\n",
       "      <td>https://api.istex.fr/document/8A14A0D5DEEA9D91...</td>\n",
       "      <td>0.5</td>\n",
       "      <td>0</td>\n",
       "      <td>0.5</td>\n",
       "      <td>0</td>\n",
       "    </tr>\n",
       "    <tr>\n",
       "      <th>4</th>\n",
       "      <td>https://api.istex.fr/document/C7885D97D873FDDA...</td>\n",
       "      <td>1</td>\n",
       "      <td>0.5</td>\n",
       "      <td>1</td>\n",
       "      <td>0.5</td>\n",
       "    </tr>\n",
       "    <tr>\n",
       "      <th>5</th>\n",
       "      <td>https://api.istex.fr/document/7059E3071A87DC69...</td>\n",
       "      <td>0</td>\n",
       "      <td>0</td>\n",
       "      <td>0</td>\n",
       "      <td>0</td>\n",
       "    </tr>\n",
       "  </tbody>\n",
       "</table>\n",
       "</div>"
      ],
      "text/plain": [
       "                                               Articles   PF   RM    P    R\n",
       "Rank                                                                       \n",
       "1     https://api.istex.fr/document/21DF3DF37766A07B...    1    1    1    1\n",
       "2     https://api.istex.fr/document/B1BEB7E400969A2E...    1  0.5    1  0.5\n",
       "3     https://api.istex.fr/document/8A14A0D5DEEA9D91...  0.5    0  0.5    0\n",
       "4     https://api.istex.fr/document/C7885D97D873FDDA...    1  0.5    1  0.5\n",
       "5     https://api.istex.fr/document/7059E3071A87DC69...    0    0    0    0"
      ]
     },
     "execution_count": 39,
     "metadata": {},
     "output_type": "execute_result"
    }
   ],
   "source": [
    "def read_results(filename):\n",
    "    results = pd.read_csv(filename, sep=';', index_col=0)\n",
    "    sampled_results = results[results['PF'] != '  ']\n",
    "    sampled_results['P'] = np.array(sampled_results['PF'], dtype=np.str)\n",
    "    sampled_results['R'] = np.array(sampled_results['RM'], dtype=np.str)\n",
    "    return sampled_results\n",
    "sampled_qbe_results = read_results('annotations/SSbE.csv')\n",
    "sampled_mlt_results = read_results('annotations/MLT.csv')\n",
    "sampled_qbe_results = sampled_qbe_results[:100]\n",
    "print 'number of SSbE samples',len(sampled_qbe_results)\n",
    "print 'number of MLT samples',len(sampled_mlt_results)\n",
    "sampled_mlt_results[0:5]"
   ]
  },
  {
   "cell_type": "code",
   "execution_count": 43,
   "metadata": {},
   "outputs": [
    {
     "name": "stdout",
     "output_type": "stream",
     "text": [
      "Kappa over lables [1, 0]:  0.900763358779\n",
      "Kappa over lables [1, 0.5]:  0.175147928994\n",
      "Kappa over lables [0.5, 0]:  0.276445698166\n",
      "Kappa over lables [1, 0, 0.5]:  0.379745481767\n"
     ]
    }
   ],
   "source": [
    "# compute kappa of annotations of the 2 domain experts \n",
    "# First combine the results of the 2 methids in one 2D numpy Array\n",
    "combined = np.vstack((sampled_mlt_results[['P', 'R']],sampled_qbe_results[['P', 'R']]))\n",
    "# Now compute Kappa\n",
    "print 'Kappa over lables [1, 0]: ', cohen_kappa_score(combined[:,0],combined[:,1],['1','0'])\n",
    "print 'Kappa over lables [1, 0.5]: ',cohen_kappa_score(combined[:,0],combined[:,1],['1','0.5'])\n",
    "print 'Kappa over lables [0.5, 0]: ',cohen_kappa_score(combined[:,0],combined[:,1],['0.5','0'])\n",
    "print 'Kappa over lables [1, 0, 0.5]: ',cohen_kappa_score(combined[:,0],combined[:,1],['1','0', '0.5'])"
   ]
  }
 ],
 "metadata": {
  "kernelspec": {
   "display_name": "Python 2",
   "language": "python",
   "name": "python2"
  },
  "language_info": {
   "codemirror_mode": {
    "name": "ipython",
    "version": 2
   },
   "file_extension": ".py",
   "mimetype": "text/x-python",
   "name": "python",
   "nbconvert_exporter": "python",
   "pygments_lexer": "ipython2",
   "version": "2.7.12"
  }
 },
 "nbformat": 4,
 "nbformat_minor": 2
}

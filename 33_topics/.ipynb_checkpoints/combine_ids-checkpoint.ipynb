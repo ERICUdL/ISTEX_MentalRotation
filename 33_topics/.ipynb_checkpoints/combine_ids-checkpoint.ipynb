{
 "cells": [
  {
   "cell_type": "code",
   "execution_count": 71,
   "metadata": {
    "collapsed": true
   },
   "outputs": [],
   "source": [
    "import urllib2, json\n",
    "import pandas as pd\n",
    "import numpy as np\n",
    "from os import listdir\n",
    "from os.path import isfile, join"
   ]
  },
  {
   "cell_type": "code",
   "execution_count": 36,
   "metadata": {},
   "outputs": [],
   "source": [
    "# Get all csv file pathes from the source directory\n",
    "path = \"CSV_merged/\"\n",
    "files = [join(path, f) for f in listdir(path) if isfile(join(mypath, f))]"
   ]
  },
  {
   "cell_type": "code",
   "execution_count": 59,
   "metadata": {},
   "outputs": [
    {
     "name": "stdout",
     "output_type": "stream",
     "text": [
      "number of merged documents: 341728\n",
      "number of unique documents: 292150\n"
     ]
    }
   ],
   "source": [
    "# Merge the istex_id(s) and export the unique ones in a merged CSV file\n",
    "merged = np.array([], dtype=np.object)\n",
    "for f in files:\n",
    "    t = pd.read_csv(f,header=None, names=['istex_id'])\n",
    "    t = np.array(t['istex_id'])\n",
    "    merged = np.hstack((merged,t))\n",
    "\n",
    "unique_merged = np.unique(merged)\n",
    "print \"number of merged documents:\", len(merged)\n",
    "print \"number of unique documents:\", len(unique_merged)\n"
   ]
  },
  {
   "cell_type": "code",
   "execution_count": 63,
   "metadata": {},
   "outputs": [],
   "source": [
    "# Export the unique merged list of istex_ids into a CSV file\n",
    "istex_ids = pd.DataFrame(unique_merged)\n",
    "istex_ids.to_csv(\"unique_merged.csv\", index=None, header=None)"
   ]
  },
  {
   "cell_type": "code",
   "execution_count": 64,
   "metadata": {},
   "outputs": [
    {
     "data": {
      "text/plain": [
       "33"
      ]
     },
     "execution_count": 64,
     "metadata": {},
     "output_type": "execute_result"
    }
   ],
   "source": [
    "list_themes = [\"Artificial Intelligence\",\"Information Systems\", \"Rehabilitation\", \"Philosophy\",\"Microscopy\",\"Infectious Diseases\",\"Respiratory System\", \\\n",
    "\"Literature\",\"Robotics\", \"Pediatrics\", \"Mechanics\", \"Condensed Matter\", \"Transplantation\", \"Religion\", \"Pathology\", \"Immunology\", \"Nursing\", \"Substance Abuse\", \"Thermodynamics\", \"Psychology\", \n",
    "\"Ophthalmology\", \"Ceramics\", \"Toxicology\", \"Neuroimaging\", \"Sociology\", \"Psychiatry\", \"Oncology\", \"biophysics\", \"Emergency Medicine\", \"Surgery\", \"Physiology\", \"Mycology\", \"Biomaterials\"]\n",
    "len(list_themes)"
   ]
  },
  {
   "cell_type": "code",
   "execution_count": 90,
   "metadata": {},
   "outputs": [],
   "source": [
    "def query_from(q, f):\n",
    "\tq = q+'&from='+str(f)\n",
    "\tresponse = urllib2.urlopen(q)\n",
    "\tdata = json.load(response)\n",
    "\tsubject_ids = np.array(range(len(data['hits'])), dtype=np.object)\n",
    "\tfor (i, hit) in enumerate(data['hits']):\n",
    "\t\tsubject_ids[i] = hit['id']\n",
    "\treturn subject_ids\n",
    "\n",
    "def query(q):\n",
    "\tresponse = urllib2.urlopen(q)\n",
    "\tdata = json.load(response)\n",
    "\tnb_requests = 1 + data['total'] / 1000\n",
    "\tif nb_requests > 10: # maximum number of pages due to API pagination restrection\n",
    "\t\tnb_requests = 10\n",
    "\tsubject_ids = query_from(q, 0)\n",
    "\tfor i in range(nb_requests)[1:]:\n",
    "\t\tf = i * 1000\n",
    "\t\tnext_request = query_from(q, f)\n",
    "\t\tsubject_ids = np.hstack((subject_ids, next_request))\n",
    "\treturn subject_ids.tolist()\n",
    "\n",
    "def term2url(string):\n",
    "\tstring = string.split(' ')\n",
    "\tres = '%22'\n",
    "\tfor s in string:\n",
    "\t\tres = res + s + '%20'\n",
    "\tres = res[:-3]\n",
    "\tres = res + '%22'\n",
    "\treturn res\n",
    "\n",
    "def keyword(topic):\n",
    "\tq = 'https://api.istex.fr/document/?q=(('\n",
    "\ttopic = term2url(topic)\n",
    "\tq = q+ 'keywords.teeft:' + topic\n",
    "\tq = q + ')%20AND%20(qualityIndicators.abstractWordCount:[35%20500]%20AND%20qualityIndicators.pdfPageCount:[3%2060]%20AND%20publicationDate:[1990%202016]%20ANvdD%20language:(%22eng%22%20OR%20%22unknown%22)%20AND%20genre:(%22research_article%22%20OR%20%22conference[eBooks]%22%20OR%20%22article%22%20)%20))&size=1000&output=id'\n",
    "\treturn q\n",
    "\n",
    "def title_abst(topic):\n",
    "\tq = 'https://api.istex.fr/document/?q=(('\n",
    "\ttopic = term2url(topic)\n",
    "\tq = q+ 'title:' + topic + '%20OR%20abstract:' + topic\n",
    "\tq = q + ')%20AND%20(qualityIndicators.abstractWordCount:[35%20500]%20AND%20qualityIndicators.pdfPageCount:[3%2060]%20AND%20publicationDate:[1990%202016]%20ANvdD%20language:(%22eng%22%20OR%20%22unknown%22)%20AND%20genre:(%22research_article%22%20OR%20%22conference[eBooks]%22%20OR%20%22article%22%20)%20))&size=1000&output=id'\n",
    "\treturn q\n"
   ]
  },
  {
   "cell_type": "code",
   "execution_count": 93,
   "metadata": {},
   "outputs": [
    {
     "name": "stdout",
     "output_type": "stream",
     "text": [
      "https://api.istex.fr/document/?q=((title:%22Artificial%20Intelligence%22%20OR%20abstract:%22Artificial%20Intelligence%22)%20AND%20(qualityIndicators.abstractWordCount:[35%20500]%20AND%20qualityIndicators.pdfPageCount:[3%2060]%20AND%20publicationDate:[1990%202016]%20ANvdD%20language:(%22eng%22%20OR%20%22unknown%22)%20AND%20genre:(%22research_article%22%20OR%20%22conference[eBooks]%22%20OR%20%22article%22%20)%20))&size=1000&output=id\n"
     ]
    },
    {
     "data": {
      "text/plain": [
       "[u'166C3E42883D652A04179CB5ADE02F07F8482B24',\n",
       " u'099ED2EA72F069B6E17185C0C2E21FF3A08B71BA',\n",
       " u'D87830C0D057EFC73C14896C18A57EAFA5C09628',\n",
       " u'C5D233E6AB2808BEA83BBA252D1B9872D7B9E14D',\n",
       " u'974F694F33A407D81A2FE0EC1455039E4AC42B63',\n",
       " u'B3D478E9FABF61920E760388085E6D931BD40A82',\n",
       " u'A1AFF75E4F64C29DA9C45508024BB440D0840FAF',\n",
       " u'608FF2B1E3C1343B89F4DAC98C6B36B62BBE1F76',\n",
       " u'4A74948C95085026897F01BE4F01A690535A191A',\n",
       " u'D3181511C70A95DBDC475D9D998D6C6A1846B33B']"
      ]
     },
     "execution_count": 93,
     "metadata": {},
     "output_type": "execute_result"
    }
   ],
   "source": [
    "q = title_abst(list_themes[0])\n",
    "print q\n",
    "res = query(q)\n",
    "res[:10]"
   ]
  },
  {
   "cell_type": "code",
   "execution_count": 94,
   "metadata": {},
   "outputs": [
    {
     "name": "stdout",
     "output_type": "stream",
     "text": [
      "https://api.istex.fr/document/?q=((keywords.teeft:%22Artificial%20Intelligence%22)%20AND%20(qualityIndicators.abstractWordCount:[35%20500]%20AND%20qualityIndicators.pdfPageCount:[3%2060]%20AND%20publicationDate:[1990%202016]%20ANvdD%20language:(%22eng%22%20OR%20%22unknown%22)%20AND%20genre:(%22research_article%22%20OR%20%22conference[eBooks]%22%20OR%20%22article%22%20)%20))&size=1000&output=id\n"
     ]
    },
    {
     "data": {
      "text/plain": [
       "[u'AEC340AA0D3F7BC6C1A3F1ABB4438D211FC74F4A',\n",
       " u'F2E0B16D2A22150FC5007051AB16510C81237370',\n",
       " u'05E4E6A76E75CE9820F59D5516A4F3BBCB8A6EE6',\n",
       " u'7DD3736FAF2D2B7F02FCE4A423C059EB97BFAC61',\n",
       " u'344CF39480130E1A468DB495AFE0A70D83CC057D',\n",
       " u'57BF6B99AAE986CA760B33CF830C797EF91BE9C3',\n",
       " u'D496043AC37B0A72C22A648BC3805EA9ADD14FFE',\n",
       " u'29261003D672AAC7ACE6762CDCD45EA51C756D5C',\n",
       " u'93F822A46600067B50B2162453492A5127628E16',\n",
       " u'EB553E80949D3D095C47F76C7C677EA4E095C83B']"
      ]
     },
     "execution_count": 94,
     "metadata": {},
     "output_type": "execute_result"
    }
   ],
   "source": [
    "q = keyword(list_themes[0])\n",
    "print q\n",
    "res = query(q)\n",
    "res[:10]"
   ]
  }
 ],
 "metadata": {
  "kernelspec": {
   "display_name": "Python 2",
   "language": "python",
   "name": "python2"
  },
  "language_info": {
   "codemirror_mode": {
    "name": "ipython",
    "version": 2
   },
   "file_extension": ".py",
   "mimetype": "text/x-python",
   "name": "python",
   "nbconvert_exporter": "python",
   "pygments_lexer": "ipython2",
   "version": "2.7.12"
  }
 },
 "nbformat": 4,
 "nbformat_minor": 2
}

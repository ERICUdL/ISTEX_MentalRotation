{
 "cells": [
  {
   "cell_type": "markdown",
   "metadata": {},
   "source": [
    "### Task of this notebook:\n",
    "#### Plot a chart where x-axis (X) and y-axis (Y) as:  \n",
    "X: number of relevant documents at rank i / number of relevant documents in top n  \n",
    "Y: number of irrelevant documents at rank i / number of irrilevant documents in top n  \n",
    "where; i is the rank from 1 to n  \n"
   ]
  },
  {
   "cell_type": "code",
   "execution_count": 4,
   "metadata": {},
   "outputs": [
    {
     "name": "stderr",
     "output_type": "stream",
     "text": [
      "/usr/lib/python2.7/dist-packages/matplotlib/font_manager.py:273: UserWarning: Matplotlib is building the font cache using fc-list. This may take a moment.\n",
      "  warnings.warn('Matplotlib is building the font cache using fc-list. This may take a moment.')\n"
     ]
    }
   ],
   "source": [
    "from sklearn.metrics import confusion_matrix\n",
    "import pandas as pd\n",
    "import numpy as np\n",
    "import matplotlib.pyplot as plt"
   ]
  },
  {
   "cell_type": "code",
   "execution_count": 5,
   "metadata": {
    "scrolled": false
   },
   "outputs": [
    {
     "name": "stdout",
     "output_type": "stream",
     "text": [
      "number of SSbE samples 100\n",
      "number of MLT samples 100\n"
     ]
    },
    {
     "name": "stderr",
     "output_type": "stream",
     "text": [
      "/usr/local/lib/python2.7/dist-packages/ipykernel_launcher.py:4: SettingWithCopyWarning: \n",
      "A value is trying to be set on a copy of a slice from a DataFrame.\n",
      "Try using .loc[row_indexer,col_indexer] = value instead\n",
      "\n",
      "See the caveats in the documentation: http://pandas.pydata.org/pandas-docs/stable/indexing.html#indexing-view-versus-copy\n",
      "  after removing the cwd from sys.path.\n",
      "/usr/local/lib/python2.7/dist-packages/ipykernel_launcher.py:5: SettingWithCopyWarning: \n",
      "A value is trying to be set on a copy of a slice from a DataFrame.\n",
      "Try using .loc[row_indexer,col_indexer] = value instead\n",
      "\n",
      "See the caveats in the documentation: http://pandas.pydata.org/pandas-docs/stable/indexing.html#indexing-view-versus-copy\n",
      "  \"\"\"\n",
      "/usr/local/lib/python2.7/dist-packages/ipykernel_launcher.py:6: SettingWithCopyWarning: \n",
      "A value is trying to be set on a copy of a slice from a DataFrame.\n",
      "Try using .loc[row_indexer,col_indexer] = value instead\n",
      "\n",
      "See the caveats in the documentation: http://pandas.pydata.org/pandas-docs/stable/indexing.html#indexing-view-versus-copy\n",
      "  \n"
     ]
    },
    {
     "data": {
      "text/html": [
       "<div>\n",
       "<table border=\"1\" class=\"dataframe\">\n",
       "  <thead>\n",
       "    <tr style=\"text-align: right;\">\n",
       "      <th></th>\n",
       "      <th>Articles</th>\n",
       "      <th>PF</th>\n",
       "      <th>RM</th>\n",
       "      <th>P</th>\n",
       "      <th>R</th>\n",
       "      <th>Score</th>\n",
       "    </tr>\n",
       "    <tr>\n",
       "      <th>Rank</th>\n",
       "      <th></th>\n",
       "      <th></th>\n",
       "      <th></th>\n",
       "      <th></th>\n",
       "      <th></th>\n",
       "      <th></th>\n",
       "    </tr>\n",
       "  </thead>\n",
       "  <tbody>\n",
       "    <tr>\n",
       "      <th>1</th>\n",
       "      <td>https://api.istex.fr/document/21DF3DF37766A07B...</td>\n",
       "      <td>1</td>\n",
       "      <td>1</td>\n",
       "      <td>1.0</td>\n",
       "      <td>1.0</td>\n",
       "      <td>1.00</td>\n",
       "    </tr>\n",
       "    <tr>\n",
       "      <th>2</th>\n",
       "      <td>https://api.istex.fr/document/B1BEB7E400969A2E...</td>\n",
       "      <td>1</td>\n",
       "      <td>0.5</td>\n",
       "      <td>1.0</td>\n",
       "      <td>0.5</td>\n",
       "      <td>0.75</td>\n",
       "    </tr>\n",
       "    <tr>\n",
       "      <th>3</th>\n",
       "      <td>https://api.istex.fr/document/8A14A0D5DEEA9D91...</td>\n",
       "      <td>0.5</td>\n",
       "      <td>0</td>\n",
       "      <td>0.5</td>\n",
       "      <td>0.0</td>\n",
       "      <td>0.25</td>\n",
       "    </tr>\n",
       "    <tr>\n",
       "      <th>4</th>\n",
       "      <td>https://api.istex.fr/document/C7885D97D873FDDA...</td>\n",
       "      <td>1</td>\n",
       "      <td>0.5</td>\n",
       "      <td>1.0</td>\n",
       "      <td>0.5</td>\n",
       "      <td>0.75</td>\n",
       "    </tr>\n",
       "    <tr>\n",
       "      <th>5</th>\n",
       "      <td>https://api.istex.fr/document/7059E3071A87DC69...</td>\n",
       "      <td>0</td>\n",
       "      <td>0</td>\n",
       "      <td>0.0</td>\n",
       "      <td>0.0</td>\n",
       "      <td>0.00</td>\n",
       "    </tr>\n",
       "    <tr>\n",
       "      <th>7</th>\n",
       "      <td>https://api.istex.fr/document/9D962699AE087CE8...</td>\n",
       "      <td>0</td>\n",
       "      <td>0.5</td>\n",
       "      <td>0.0</td>\n",
       "      <td>0.5</td>\n",
       "      <td>0.25</td>\n",
       "    </tr>\n",
       "    <tr>\n",
       "      <th>11</th>\n",
       "      <td>https://api.istex.fr/document/48E3EEF95715F9F6...</td>\n",
       "      <td>0</td>\n",
       "      <td>0</td>\n",
       "      <td>0.0</td>\n",
       "      <td>0.0</td>\n",
       "      <td>0.00</td>\n",
       "    </tr>\n",
       "    <tr>\n",
       "      <th>15</th>\n",
       "      <td>https://api.istex.fr/document/49C6E1158DA37F86...</td>\n",
       "      <td>0</td>\n",
       "      <td>0</td>\n",
       "      <td>0.0</td>\n",
       "      <td>0.0</td>\n",
       "      <td>0.00</td>\n",
       "    </tr>\n",
       "    <tr>\n",
       "      <th>16</th>\n",
       "      <td>https://api.istex.fr/document/0C72D5F906D2D681...</td>\n",
       "      <td>0</td>\n",
       "      <td>0</td>\n",
       "      <td>0.0</td>\n",
       "      <td>0.0</td>\n",
       "      <td>0.00</td>\n",
       "    </tr>\n",
       "    <tr>\n",
       "      <th>20</th>\n",
       "      <td>https://api.istex.fr/document/27468151CE649DAA...</td>\n",
       "      <td>0</td>\n",
       "      <td>0</td>\n",
       "      <td>0.0</td>\n",
       "      <td>0.0</td>\n",
       "      <td>0.00</td>\n",
       "    </tr>\n",
       "  </tbody>\n",
       "</table>\n",
       "</div>"
      ],
      "text/plain": [
       "                                               Articles   PF   RM    P    R  \\\n",
       "Rank                                                                          \n",
       "1     https://api.istex.fr/document/21DF3DF37766A07B...    1    1  1.0  1.0   \n",
       "2     https://api.istex.fr/document/B1BEB7E400969A2E...    1  0.5  1.0  0.5   \n",
       "3     https://api.istex.fr/document/8A14A0D5DEEA9D91...  0.5    0  0.5  0.0   \n",
       "4     https://api.istex.fr/document/C7885D97D873FDDA...    1  0.5  1.0  0.5   \n",
       "5     https://api.istex.fr/document/7059E3071A87DC69...    0    0  0.0  0.0   \n",
       "7     https://api.istex.fr/document/9D962699AE087CE8...    0  0.5  0.0  0.5   \n",
       "11    https://api.istex.fr/document/48E3EEF95715F9F6...    0    0  0.0  0.0   \n",
       "15    https://api.istex.fr/document/49C6E1158DA37F86...    0    0  0.0  0.0   \n",
       "16    https://api.istex.fr/document/0C72D5F906D2D681...    0    0  0.0  0.0   \n",
       "20    https://api.istex.fr/document/27468151CE649DAA...    0    0  0.0  0.0   \n",
       "\n",
       "      Score  \n",
       "Rank         \n",
       "1      1.00  \n",
       "2      0.75  \n",
       "3      0.25  \n",
       "4      0.75  \n",
       "5      0.00  \n",
       "7      0.25  \n",
       "11     0.00  \n",
       "15     0.00  \n",
       "16     0.00  \n",
       "20     0.00  "
      ]
     },
     "execution_count": 5,
     "metadata": {},
     "output_type": "execute_result"
    }
   ],
   "source": [
    "def read_results(filename):\n",
    "    results = pd.read_csv(filename, sep=';', index_col=0)\n",
    "    sampled_results = results[results['PF'] != '  ']\n",
    "    sampled_results['P'] = np.array(sampled_results['PF'], dtype=np.float)\n",
    "    sampled_results['R'] = np.array(sampled_results['RM'], dtype=np.float)\n",
    "    sampled_results['Score'] = (sampled_results['P'] + sampled_results['R'] )/ 2.0\n",
    "    return sampled_results\n",
    "sampled_qbe_results = read_results('annotations/SSbE.csv')\n",
    "sampled_mlt_results = read_results('annotations/MLT.csv')\n",
    "sampled_qbe_results = sampled_qbe_results[:100]\n",
    "print 'number of SSbE samples',len(sampled_qbe_results)\n",
    "print 'number of MLT samples',len(sampled_mlt_results)\n",
    "sampled_mlt_results[:10]"
   ]
  },
  {
   "cell_type": "code",
   "execution_count": 6,
   "metadata": {},
   "outputs": [],
   "source": [
    "def accuracy_score (sample_results, topn):\n",
    "    score = np.array(sample_results.head(topn+1))\n",
    "    evaulation = np.sum(score) / (topn+1)\n",
    "    return evaulation\n",
    "\n",
    "def roc_score (sample_results, topn):\n",
    "    score = np.array(sample_results.head(topn))\n",
    "    evaulation = np.sum(score) / np.sum(sample_results)\n",
    "    return evaulation\n",
    "\n",
    "def roc_score_y (sample_results, topn):\n",
    "    score = np.array(1 - sample_results.head(topn))\n",
    "    evaulation = np.sum(score) / np.sum( 1 - sample_results)\n",
    "    return evaulation\n",
    "\n",
    "def build_curves(sampled_results):\n",
    "    n = len(sampled_results)\n",
    "    score_curve = np.arange(n, dtype=np.float)\n",
    "    for i in range(n):\n",
    "        score_curve[i] = accuracy_score (sampled_results['Score'], i)\n",
    "\n",
    "    patric_curve = np.arange(n, dtype=np.float)\n",
    "    for i in range(n):\n",
    "        patric_curve[i] = accuracy_score (sampled_results['P'], i)\n",
    "\n",
    "    rafael_curve = np.arange(n, dtype=np.float)\n",
    "    for i in range(n):\n",
    "        rafael_curve[i] = accuracy_score (sampled_results['R'], i)\n",
    "\n",
    "    roc_curve_x = np.arange(n, dtype=np.float)\n",
    "    for i in range(n):\n",
    "        roc_curve_x[i] = roc_score(sampled_results['Score'], i)\n",
    "\n",
    "    roc_curve_y = np.arange(n, dtype=np.float)\n",
    "    for i in range(n):\n",
    "        roc_curve_y[i] = roc_score_y(sampled_results['Score'], i)\n",
    "    return score_curve, patric_curve, rafael_curve, roc_curve_x, roc_curve_y\n",
    "\n",
    "qbe_score_curve, qbe_patric_curve, qbe_rafael_curve, qbe_roc_curve_x, qbe_roc_curve_y = build_curves(sampled_qbe_results)\n",
    "mlt_score_curve, mlt_patric_curve, mlt_rafael_curve, mlt_roc_curve_x, mlt_roc_curve_y = build_curves(sampled_mlt_results)"
   ]
  },
  {
   "cell_type": "code",
   "execution_count": 7,
   "metadata": {
    "scrolled": false,
    "slideshow": {
     "slide_type": "slide"
    }
   },
   "outputs": [
    {
     "data": {
      "image/png": "[encoded data removed]",
      "text/plain": [
       "<matplotlib.figure.Figure at 0x7f6ba8e18110>"
      ]
     },
     "metadata": {},
     "output_type": "display_data"
    },
    {
     "name": "stdout",
     "output_type": "stream",
     "text": [
      "Mean: 0.283851699567\n",
      "Last: 0.3125\n"
     ]
    },
    {
     "data": {
      "image/png": "[encoded data removed]",
      "text/plain": [
       "<matplotlib.figure.Figure at 0x7f6bc5337d50>"
      ]
     },
     "metadata": {},
     "output_type": "display_data"
    },
    {
     "name": "stdout",
     "output_type": "stream",
     "text": [
      "Mean: 0.258289645225\n",
      "Last: 0.295\n"
     ]
    },
    {
     "data": {
      "image/png": "[encoded data removed]",
      "text/plain": [
       "<matplotlib.figure.Figure at 0x7f6ba8db7550>"
      ]
     },
     "metadata": {},
     "output_type": "display_data"
    },
    {
     "name": "stdout",
     "output_type": "stream",
     "text": [
      "Mean: 0.309413753908\n",
      "Last: 0.33\n"
     ]
    },
    {
     "data": {
      "image/png": "[encoded data removed]",
      "text/plain": [
       "<matplotlib.figure.Figure at 0x7f6ba54011d0>"
      ]
     },
     "metadata": {},
     "output_type": "display_data"
    },
    {
     "data": {
      "image/png": "[encoded data removed]",
      "text/plain": [
       "<matplotlib.figure.Figure at 0x7f6ba8dfc290>"
      ]
     },
     "metadata": {},
     "output_type": "display_data"
    },
    {
     "name": "stdout",
     "output_type": "stream",
     "text": [
      "Mean: 0.194268752825\n",
      "Last: 0.0925\n"
     ]
    },
    {
     "data": {
      "image/png": "[encoded data removed]",
      "text/plain": [
       "<matplotlib.figure.Figure at 0x7f6ba52d01d0>"
      ]
     },
     "metadata": {},
     "output_type": "display_data"
    },
    {
     "name": "stdout",
     "output_type": "stream",
     "text": [
      "Mean: 0.221819090347\n",
      "Last: 0.095\n"
     ]
    },
    {
     "data": {
      "image/png": "[encoded data removed]",
      "text/plain": [
       "<matplotlib.figure.Figure at 0x7f6ba5203090>"
      ]
     },
     "metadata": {},
     "output_type": "display_data"
    },
    {
     "name": "stdout",
     "output_type": "stream",
     "text": [
      "Mean: 0.166718415302\n",
      "Last: 0.09\n"
     ]
    },
    {
     "data": {
      "image/png": "[encoded data removed]",
      "text/plain": [
       "<matplotlib.figure.Figure at 0x7f6ba5102bd0>"
      ]
     },
     "metadata": {},
     "output_type": "display_data"
    }
   ],
   "source": [
    "def plotit(curve, label):\n",
    "    plt.ylim(0,1)\n",
    "    plt.ylabel(label)\n",
    "    plt.plot(curve[1:])\n",
    "    plt.show()\n",
    "    print 'Mean:', np.average(curve)\n",
    "    print 'Last:', curve[-1]\n",
    "    \n",
    "def plotroc(method, curve, curve_y):\n",
    "    plt.ylim(0,1)\n",
    "    plt.plot(curve, curve_y)\n",
    "    plt.title = method+'ROC curve'\n",
    "    plt.show()\n",
    "\n",
    "def plot_all(method, patric_curve, rafael_curve, score_curve, roc_curve_x, roc_curve_y):\n",
    "    plotit(patric_curve, method+' Expert P Score')\n",
    "    plotit(rafael_curve, method+' Expert R Score')\n",
    "    plotit(score_curve, method+' Average Score')\n",
    "    plotroc(method, roc_curve_x, roc_curve_y)\n",
    "\n",
    "plot_all('QbE', qbe_score_curve, qbe_patric_curve, qbe_rafael_curve, qbe_roc_curve_x, qbe_roc_curve_y)\n",
    "plot_all('MLT', mlt_score_curve, mlt_patric_curve, mlt_rafael_curve, mlt_roc_curve_x, mlt_roc_curve_y)"
   ]
  },
  {
   "cell_type": "code",
   "execution_count": 8,
   "metadata": {},
   "outputs": [
    {
     "data": {
      "image/png": "[encoded data removed]",
      "text/plain": [
       "<matplotlib.figure.Figure at 0x7f6ba50b38d0>"
      ]
     },
     "metadata": {},
     "output_type": "display_data"
    },
    {
     "data": {
      "image/png": "[encoded data removed]",
      "text/plain": [
       "<matplotlib.figure.Figure at 0x7f6ba4f81990>"
      ]
     },
     "metadata": {},
     "output_type": "display_data"
    }
   ],
   "source": [
    "def plotit2(curve, curve2):\n",
    "    plt.ylim(0,1)\n",
    "    plt.ylabel('Accuracy score')\n",
    "    plt.yticks([0.1, 0.2, 0.3, 0.4, 0.5, 0.6, 0.7, 0.8, 0.9, 1.0])\n",
    "    plt.xlabel('Rank')\n",
    "    plt.plot(curve[1:],'b')\n",
    "    plt.plot(curve2[1:], 'r')\n",
    "    plt.show()\n",
    "\n",
    "def plotroc2( curve, curve_y, curve2, curve_y2):\n",
    "    plt.ylim(0,1)\n",
    "    plt.plot(curve, curve_y, 'b')\n",
    "    plt.plot(curve2, curve_y2,'r')\n",
    "    plt.plot(line1, line2,'g')\n",
    "    plt.title = 'ROC curve'\n",
    "    plt.show()\n",
    "    \n",
    "line1 = (np.arange(100)+1)/100.0\n",
    "line2 = (np.arange(100)+1)/100.0\n",
    "plotit2(qbe_score_curve, mlt_score_curve)\n",
    "\n",
    "line1 = (np.arange(101))/100.0\n",
    "line2 = (np.arange(101))/100.0\n",
    "plotroc2( qbe_roc_curve_x, qbe_roc_curve_y, mlt_roc_curve_x, mlt_roc_curve_y)"
   ]
  },
  {
   "cell_type": "code",
   "execution_count": 9,
   "metadata": {
    "slideshow": {
     "slide_type": "slide"
    }
   },
   "outputs": [
    {
     "name": "stdout",
     "output_type": "stream",
     "text": [
      "histogram of our model\n",
      "[[  0.     0.25   0.5    0.75   1.  ]\n",
      " [ 37.    30.    12.    13.     8.  ]]\n",
      "histogram of MLT model\n",
      "[[  0.     0.25   0.5    0.75   1.  ]\n",
      " [ 81.     9.     4.     4.     2.  ]]\n"
     ]
    }
   ],
   "source": [
    "print 'histogram of our model'\n",
    "p = sampled_qbe_results['P']\n",
    "unique, counts = np.unique(p, return_counts=True)\n",
    "#print np.asarray((unique, counts))\n",
    "\n",
    "r = sampled_qbe_results['R']\n",
    "unique, counts = np.unique(r, return_counts=True)\n",
    "#print np.asarray((unique, counts))\n",
    "\n",
    "r = sampled_qbe_results['Score']\n",
    "unique, counts = np.unique(r, return_counts=True)\n",
    "print np.asarray((unique, counts))\n",
    "\n",
    "print 'histogram of MLT model'\n",
    "p = sampled_mlt_results['P']\n",
    "unique, counts = np.unique(p, return_counts=True)\n",
    "#print np.asarray((unique, counts))\n",
    "\n",
    "r = sampled_mlt_results['R']\n",
    "unique, counts = np.unique(r, return_counts=True)\n",
    "#print np.asarray((unique, counts))\n",
    "\n",
    "r = sampled_mlt_results['Score']\n",
    "unique, counts = np.unique(r, return_counts=True)\n",
    "print np.asarray((unique, counts))"
   ]
  },
  {
   "cell_type": "code",
   "execution_count": 10,
   "metadata": {},
   "outputs": [
    {
     "name": "stdout",
     "output_type": "stream",
     "text": [
      "[[   0.   106. ]\n",
      " [   0.5   63. ]\n",
      " [   1.    31. ]]\n",
      "[[   0.   171. ]\n",
      " [   0.5   21. ]\n",
      " [   1.     8. ]]\n"
     ]
    }
   ],
   "source": [
    "x = sampled_qbe_results[['P','R']]\n",
    "unique, counts = np.unique(x, return_counts=True)\n",
    "print np.asarray((unique, counts)).T\n",
    "\n",
    "y = sampled_mlt_results[['P','R']]\n",
    "unique, counts = np.unique(y, return_counts=True)\n",
    "print np.asarray((unique, counts)).T"
   ]
  },
  {
   "cell_type": "code",
   "execution_count": 11,
   "metadata": {},
   "outputs": [
    {
     "name": "stdout",
     "output_type": "stream",
     "text": [
      "number of articles 100\n"
     ]
    },
    {
     "data": {
      "text/plain": [
       "array([[ 8,  3,  0],\n",
       "       [10, 10, 17],\n",
       "       [ 2, 13, 37]])"
      ]
     },
     "execution_count": 11,
     "metadata": {},
     "output_type": "execute_result"
    }
   ],
   "source": [
    "qbe_confusion_mat = confusion_matrix(np.array(sampled_qbe_results['P'], dtype=np.str), np.array(sampled_qbe_results['R'],dtype=np.str), labels=['1.0','0.5','0.0'])\n",
    "print 'number of articles', np.sum(qbe_confusion_mat)\n",
    "qbe_confusion_mat"
   ]
  },
  {
   "cell_type": "code",
   "execution_count": 12,
   "metadata": {},
   "outputs": [
    {
     "name": "stdout",
     "output_type": "stream",
     "text": [
      "number of articles 100\n"
     ]
    },
    {
     "data": {
      "text/plain": [
       "array([[ 2,  3,  0],\n",
       "       [ 1,  4,  4],\n",
       "       [ 0,  5, 81]])"
      ]
     },
     "execution_count": 12,
     "metadata": {},
     "output_type": "execute_result"
    }
   ],
   "source": [
    "mlt_confusion_mat = confusion_matrix(np.array(sampled_mlt_results['P'], dtype=np.str), np.array(sampled_mlt_results['R'],dtype=np.str), labels=['1.0','0.5','0.0'])\n",
    "print 'number of articles', np.sum(mlt_confusion_mat)\n",
    "mlt_confusion_mat"
   ]
  },
  {
   "cell_type": "code",
   "execution_count": 13,
   "metadata": {},
   "outputs": [
    {
     "name": "stdout",
     "output_type": "stream",
     "text": [
      "percentage confusion matrix of QbE\n",
      "[[ 0.08  0.03  0.  ]\n",
      " [ 0.1   0.1   0.17]\n",
      " [ 0.02  0.13  0.37]]\n",
      "percentage confusion matrix of MLT\n",
      "[[ 0.02  0.03  0.  ]\n",
      " [ 0.01  0.04  0.04]\n",
      " [ 0.    0.05  0.81]]\n"
     ]
    }
   ],
   "source": [
    "print 'percentage confusion matrix of QbE'\n",
    "nb_qbe = float(np.sum(qbe_confusion_mat))\n",
    "qbe_percent_mat = np.around(qbe_confusion_mat/nb_qbe, 2)\n",
    "print qbe_percent_mat\n",
    "\n",
    "print 'percentage confusion matrix of MLT'\n",
    "nb_mlt = float(np.sum(mlt_confusion_mat))\n",
    "mlt_percent_mat = np.around(mlt_confusion_mat/nb_mlt, 2)\n",
    "print mlt_percent_mat"
   ]
  }
 ],
 "metadata": {
  "celltoolbar": "Slideshow",
  "kernelspec": {
   "display_name": "Python 2",
   "language": "python",
   "name": "python2"
  },
  "language_info": {
   "codemirror_mode": {
    "name": "ipython",
    "version": 2
   },
   "file_extension": ".py",
   "mimetype": "text/x-python",
   "name": "python",
   "nbconvert_exporter": "python",
   "pygments_lexer": "ipython2",
   "version": "2.7.12"
  }
 },
 "nbformat": 4,
 "nbformat_minor": 2
}
